{
  "nbformat": 4,
  "nbformat_minor": 0,
  "metadata": {
    "kernelspec": {
      "display_name": "Python 3",
      "language": "python",
      "name": "python3"
    },
    "language_info": {
      "codemirror_mode": {
        "name": "ipython",
        "version": 3
      },
      "file_extension": ".py",
      "mimetype": "text/x-python",
      "name": "python",
      "nbconvert_exporter": "python",
      "pygments_lexer": "ipython3",
      "version": "3.6.7"
    },
    "colab": {
      "name": "P4M Notebook 4.ipynb",
      "provenance": [],
      "toc_visible": true,
      "include_colab_link": true
    }
  },
  "cells": [
    {
      "cell_type": "markdown",
      "metadata": {
        "id": "view-in-github",
        "colab_type": "text"
      },
      "source": [
        "<a href=\"https://colab.research.google.com/github/JiaqiZhang1/Math-152/blob/main/P4M_Notebook_4.ipynb\" target=\"_parent\"><img src=\"https://colab.research.google.com/assets/colab-badge.svg\" alt=\"Open In Colab\"/></a>"
      ]
    },
    {
      "cell_type": "markdown",
      "metadata": {
        "id": "DxdHENj6G5z_"
      },
      "source": [
        "# Part 4:  Introduction to NumPy and Visualization\n",
        "\n",
        "Python lists -- objects of type `list` -- are flexible containers for all sorts of data.  They can hold numbers, strings, even other lists.  Python excels at list slicing, whereby one can examine and move and write entire \"slices\" of a list at once.  Lists are emblematic of Pythonic elegance.\n",
        "\n",
        "[NumPy](http://www.numpy.org/) (and it's relative SciPy) are packages for numerical and scientific computation in Python.  These packages extend the capability of Python by defining new types which are highly optimized for floating-point and fixed-size integer computation.  They also extend the capability of Python by introducing new list-like types that allow multi-dimensional arrays (like matrices) and allow \"broadcasting\" -- the seemingly-simultaneous application of functions to all terms of such an array.\n",
        "\n",
        "Here we will introduce computation with NumPy.  Since we will be working with large arrays of data, we will also introduce a few techniques for data visualization, using [MatPlotLib](https://matplotlib.org/) (for standard types of graphs) and [Pillow](https://python-pillow.org/) (for low-level graphics manipulation)."
      ]
    },
    {
      "cell_type": "markdown",
      "metadata": {
        "id": "Xs-ILBNLG50C"
      },
      "source": [
        "## Introduction to NumPy\n",
        "\n",
        "To get started, we load the numpy package with the `import numpy as np` command.  This means that all numpy functions will be accessible in the form `np.<function>`.  For example, if we want to compute the square root of a number, using the numpy function, we would call it with `np.sqrt`.\n",
        "\n",
        "To learn more about NumPy, get started with the [NumPy basics documentation](https://docs.scipy.org/doc/numpy/user/basics.html)."
      ]
    },
    {
      "cell_type": "code",
      "metadata": {
        "id": "FlPExeaJG50D"
      },
      "source": [
        "import numpy as np "
      ],
      "execution_count": 1,
      "outputs": []
    },
    {
      "cell_type": "code",
      "metadata": {
        "id": "PfPgOZNXG50D",
        "colab": {
          "base_uri": "https://localhost:8080/"
        },
        "outputId": "c6c3382b-9d4c-415c-a937-828690e7404b"
      },
      "source": [
        "np.sqrt(10)"
      ],
      "execution_count": null,
      "outputs": [
        {
          "output_type": "execute_result",
          "data": {
            "text/plain": [
              "3.1622776601683795"
            ]
          },
          "metadata": {},
          "execution_count": 2
        }
      ]
    },
    {
      "cell_type": "markdown",
      "metadata": {
        "id": "XkIhqenVG50E"
      },
      "source": [
        "### NumPy numerical types and \"universal\" functions (ufuncs)"
      ]
    },
    {
      "cell_type": "code",
      "metadata": {
        "id": "q2hpV5uhG50E",
        "colab": {
          "base_uri": "https://localhost:8080/"
        },
        "outputId": "ad1e06e0-af35-4c47-f837-23b9090b07c8"
      },
      "source": [
        "type(np.sqrt(10))"
      ],
      "execution_count": null,
      "outputs": [
        {
          "output_type": "execute_result",
          "data": {
            "text/plain": [
              "numpy.float64"
            ]
          },
          "metadata": {},
          "execution_count": 3
        }
      ]
    },
    {
      "cell_type": "markdown",
      "metadata": {
        "id": "AQL642wUG50E"
      },
      "source": [
        "You'll notice right away that numpy has its own types.  The above command should output something like `numpy.float64` or `numpy.float32` (probably the first).  These are floating-point numbers (i.e., approximations of real numbers) which occupy 64 or 32 bits, depending on your computer (or Google's computers, if running on Colab).  The standard numerical types in NumPy are described [in the documentation](https://docs.scipy.org/doc/numpy/user/basics.types.html).  \n",
        "\n",
        "By using specialized numerical types, NumPy is able to take advantage of your computer hardware, which is optimized for arithmetic on certain kinds of numbers.  NumPy types are typically a bit less flexible than pure Python types, e.g., you won't find an \"adjustable\" `int` type.  But for intensive computations, the reduction of flexibility is outweighed by the speed and memory improvements.\n",
        "\n",
        "You can create a variable of a certain numpy type with a command of the form `x = np.<type>(something)`.  For example, let's create a numpy float from scratch."
      ]
    },
    {
      "cell_type": "code",
      "metadata": {
        "id": "haiGvuiSG50E"
      },
      "source": [
        "x = np.float64(3.14) # Not just a float... a numpy-float."
      ],
      "execution_count": null,
      "outputs": []
    },
    {
      "cell_type": "code",
      "metadata": {
        "id": "WrlJojzPG50F",
        "colab": {
          "base_uri": "https://localhost:8080/"
        },
        "outputId": "69fd597f-dbda-491c-d629-176393d3753d"
      },
      "source": [
        "print(x**10)"
      ],
      "execution_count": null,
      "outputs": [
        {
          "output_type": "stream",
          "name": "stdout",
          "text": [
            "93174.3733866435\n"
          ]
        }
      ]
    },
    {
      "cell_type": "code",
      "metadata": {
        "id": "sMoTyrkjG50F",
        "colab": {
          "base_uri": "https://localhost:8080/"
        },
        "outputId": "beb33b1d-48d9-4e26-f8a9-a83623c83b7a"
      },
      "source": [
        "type(x**10)"
      ],
      "execution_count": null,
      "outputs": [
        {
          "output_type": "execute_result",
          "data": {
            "text/plain": [
              "numpy.float64"
            ]
          },
          "metadata": {},
          "execution_count": 6
        }
      ]
    },
    {
      "cell_type": "markdown",
      "metadata": {
        "id": "S5Fmdh-bG50F"
      },
      "source": [
        "This is useful, if we want to tell our computer explicitly to use numpy for some computations instead of using the Python defaults.  But beware that types can be restrictive -- this is a good thing, in practice, but takes some getting used to.\n",
        "\n",
        "We will be using the type `uint8` type a bit later.  This stands for 8-bit *unsigned* integers.  These are non-negative integers that can be encoded with 8 bits of information, i.e., whose binary expansion has eight ones and zeros.  For example, the 8-bit binary expression 10101010 stands for the integer 128+32+8+2 = 170.  Note that 8 bits = 1 byte... so each uint8 occupies one byte of memory.  \n",
        "\n",
        "An 8-bit unsigned integer can represent integers between 0 and 255 (inclusive).  If your computations exceed this range, then a warning/error will result!"
      ]
    },
    {
      "cell_type": "code",
      "metadata": {
        "id": "KYbH9d-9G50F"
      },
      "source": [
        "n = np.uint8(137) # n is an 8-bit unsigned integer."
      ],
      "execution_count": null,
      "outputs": []
    },
    {
      "cell_type": "code",
      "metadata": {
        "id": "P1iN1H9AG50F",
        "colab": {
          "base_uri": "https://localhost:8080/",
          "height": 35
        },
        "outputId": "cddff9a4-c95b-479c-c8ae-30382603a63f"
      },
      "source": [
        "bin(n) # The bits of n are in the string below, after the '0b'.  "
      ],
      "execution_count": null,
      "outputs": [
        {
          "output_type": "execute_result",
          "data": {
            "text/plain": [
              "'0b10001001'"
            ],
            "application/vnd.google.colaboratory.intrinsic+json": {
              "type": "string"
            }
          },
          "metadata": {},
          "execution_count": 8
        }
      ]
    },
    {
      "cell_type": "code",
      "metadata": {
        "id": "6VxxehF2G50G",
        "colab": {
          "base_uri": "https://localhost:8080/"
        },
        "outputId": "dfdfd298-c093-432f-fc2f-eb38c3d8a08d"
      },
      "source": [
        "print(n)"
      ],
      "execution_count": null,
      "outputs": [
        {
          "output_type": "stream",
          "name": "stdout",
          "text": [
            "137\n"
          ]
        }
      ]
    },
    {
      "cell_type": "code",
      "metadata": {
        "id": "xwiiYIZHG50G",
        "colab": {
          "base_uri": "https://localhost:8080/"
        },
        "outputId": "6266cbf0-039b-47c4-9c4d-fc50a1e1ee21"
      },
      "source": [
        "print(n*n) # Uh oh overflow."
      ],
      "execution_count": null,
      "outputs": [
        {
          "output_type": "stream",
          "name": "stdout",
          "text": [
            "81\n"
          ]
        },
        {
          "output_type": "stream",
          "name": "stderr",
          "text": [
            "<ipython-input-10-f4fababb22e9>:1: RuntimeWarning: overflow encountered in ubyte_scalars\n",
            "  print(n*n) # Uh oh overflow.\n"
          ]
        }
      ]
    },
    {
      "cell_type": "markdown",
      "metadata": {
        "id": "YhWxBx6GG50G"
      },
      "source": [
        "These kind of restrictions are good and bad.  The bad is that more error messages will pop out and sometimes crash your functions.  Overflows can lead to *wrong* outputs.  The good is that you will be able to harness your computer's processor more effectively, and you will be forced to program more carefully.\n",
        "\n",
        "NumPy also comes with some familiar constants:  $e$, $\\pi$, and Euler's $\\gamma$ (which you approximated before)."
      ]
    },
    {
      "cell_type": "code",
      "metadata": {
        "id": "CGNI-a7DG50G",
        "colab": {
          "base_uri": "https://localhost:8080/"
        },
        "outputId": "e8a38cce-bb27-40de-a8fa-f6b1979679b5"
      },
      "source": [
        "print(np.e)"
      ],
      "execution_count": null,
      "outputs": [
        {
          "output_type": "stream",
          "name": "stdout",
          "text": [
            "2.718281828459045\n"
          ]
        }
      ]
    },
    {
      "cell_type": "code",
      "metadata": {
        "id": "QMvHz4nVG50G",
        "colab": {
          "base_uri": "https://localhost:8080/"
        },
        "outputId": "6319da52-f072-48ac-b657-b1a38f85cf11"
      },
      "source": [
        "print(np.pi)"
      ],
      "execution_count": null,
      "outputs": [
        {
          "output_type": "stream",
          "name": "stdout",
          "text": [
            "3.141592653589793\n"
          ]
        }
      ]
    },
    {
      "cell_type": "code",
      "metadata": {
        "id": "Yx2vgQLSG50G",
        "colab": {
          "base_uri": "https://localhost:8080/"
        },
        "outputId": "c7335778-f0be-4450-f1a3-6a3924b8c9c6"
      },
      "source": [
        "print(np.euler_gamma) # The harmonic sum minus the logarithm, remember?"
      ],
      "execution_count": null,
      "outputs": [
        {
          "output_type": "stream",
          "name": "stdout",
          "text": [
            "0.5772156649015329\n"
          ]
        }
      ]
    },
    {
      "cell_type": "markdown",
      "metadata": {
        "id": "zSWZRHP3G50H"
      },
      "source": [
        "NumPy also comes with a zoo of highly optimized, \"broadcastable\" (we'll see what this means soon) functions.  Examples include square roots, trig functions, exponentials and logarithms, GCD, and more.  A nice list of these \"universal functions\" is [in the documentation](https://docs.scipy.org/doc/numpy/reference/ufuncs.html#math-operations)."
      ]
    },
    {
      "cell_type": "code",
      "metadata": {
        "id": "oFz-Pg4aG50H",
        "colab": {
          "base_uri": "https://localhost:8080/"
        },
        "outputId": "44a5e887-9c5e-40a7-e4de-19fb98f1a9c4"
      },
      "source": [
        "np.sin(np.pi / 4) # What will this be?  Remember precalculus?"
      ],
      "execution_count": null,
      "outputs": [
        {
          "output_type": "execute_result",
          "data": {
            "text/plain": [
              "0.7071067811865475"
            ]
          },
          "metadata": {},
          "execution_count": 11
        }
      ]
    },
    {
      "cell_type": "code",
      "metadata": {
        "id": "U9wfP0R-G50H",
        "colab": {
          "base_uri": "https://localhost:8080/"
        },
        "outputId": "041b796b-da14-4137-c391-57ee195dbf0d"
      },
      "source": [
        "np.sqrt(2) / 2 # For comparison.  Note the little deviation from above... these can add up!!"
      ],
      "execution_count": null,
      "outputs": [
        {
          "output_type": "execute_result",
          "data": {
            "text/plain": [
              "0.7071067811865476"
            ]
          },
          "metadata": {},
          "execution_count": 12
        }
      ]
    },
    {
      "cell_type": "code",
      "metadata": {
        "id": "SAM1qy_iG50H",
        "colab": {
          "base_uri": "https://localhost:8080/"
        },
        "outputId": "93e7036d-2380-4615-ea1a-62677683ab96"
      },
      "source": [
        "np.arctan(1) # The arctangent, or inverse tangent function"
      ],
      "execution_count": null,
      "outputs": [
        {
          "output_type": "execute_result",
          "data": {
            "text/plain": [
              "0.7853981633974483"
            ]
          },
          "metadata": {},
          "execution_count": 13
        }
      ]
    },
    {
      "cell_type": "code",
      "metadata": {
        "id": "Rzxk9OWlG50H",
        "colab": {
          "base_uri": "https://localhost:8080/"
        },
        "outputId": "d30b1848-b254-439f-d3d2-de655ca62882"
      },
      "source": [
        "np.pi / 4"
      ],
      "execution_count": null,
      "outputs": [
        {
          "output_type": "execute_result",
          "data": {
            "text/plain": [
              "0.7853981633974483"
            ]
          },
          "metadata": {},
          "execution_count": 14
        }
      ]
    },
    {
      "cell_type": "code",
      "metadata": {
        "id": "9vw840QfG50H",
        "colab": {
          "base_uri": "https://localhost:8080/"
        },
        "outputId": "fa87d5a8-ed4e-4019-b27f-4cf7fe4a8758"
      },
      "source": [
        "np.hypot(3,4) # Guess what this does!"
      ],
      "execution_count": null,
      "outputs": [
        {
          "output_type": "execute_result",
          "data": {
            "text/plain": [
              "5.0"
            ]
          },
          "metadata": {},
          "execution_count": 15
        }
      ]
    },
    {
      "cell_type": "markdown",
      "metadata": {
        "id": "zYtuGB3sG50I"
      },
      "source": [
        "### Python arrays\n",
        "\n",
        "So far, we have seen that NumPy extends Python with more types for numbers, more constants, and more functions.  This is all useful, especially for math and science applications.  But the place where NumPy really offers a big improvement is in its handling of arrays.\n",
        "\n",
        "A NumPy array is like a Python list... but less flexible in its contents, more flexible in its shape and size, and much more efficient for large-scale computations.  Let's begin by doing things that we know for lists, just within NumPy arrays instead."
      ]
    },
    {
      "cell_type": "code",
      "metadata": {
        "id": "braipmb9G50I",
        "colab": {
          "base_uri": "https://localhost:8080/"
        },
        "outputId": "4487e319-6d6a-427f-e081-6bdb9399d0b5"
      },
      "source": [
        "L = np.array([1,2,3,4,5,6,7,8,9,10]) # Make a NumPy array from a list of numbers.\n",
        "print(L) # Looks like a list."
      ],
      "execution_count": null,
      "outputs": [
        {
          "output_type": "stream",
          "name": "stdout",
          "text": [
            "[ 1  2  3  4  5  6  7  8  9 10]\n"
          ]
        }
      ]
    },
    {
      "cell_type": "code",
      "metadata": {
        "id": "bplXlKrSG50I",
        "colab": {
          "base_uri": "https://localhost:8080/"
        },
        "outputId": "29ef31e9-cb95-46bb-a68d-a8f385bed088"
      },
      "source": [
        "print([1,2,3,4,5,6,7,8,9,10]) # But a Python list is printed with commas."
      ],
      "execution_count": null,
      "outputs": [
        {
          "output_type": "stream",
          "name": "stdout",
          "text": [
            "[1, 2, 3, 4, 5, 6, 7, 8, 9, 10]\n"
          ]
        }
      ]
    },
    {
      "cell_type": "code",
      "metadata": {
        "id": "G8rpAI6VG50I",
        "colab": {
          "base_uri": "https://localhost:8080/"
        },
        "outputId": "43effc3f-23b0-4128-cfd6-82dd157ba00a"
      },
      "source": [
        "print(L[0])  # NumPy arrays are indexed like plain-Python arrays.  Start at zero."
      ],
      "execution_count": null,
      "outputs": [
        {
          "output_type": "stream",
          "name": "stdout",
          "text": [
            "1\n"
          ]
        }
      ]
    },
    {
      "cell_type": "code",
      "metadata": {
        "id": "-c82_FLbG50I",
        "colab": {
          "base_uri": "https://localhost:8080/"
        },
        "outputId": "e11d4723-31da-4a78-c9db-708d8fde65ed"
      },
      "source": [
        "print(L[-1]) # Familiar Python indexing tricks are supported."
      ],
      "execution_count": null,
      "outputs": [
        {
          "output_type": "stream",
          "name": "stdout",
          "text": [
            "10\n"
          ]
        }
      ]
    },
    {
      "cell_type": "code",
      "metadata": {
        "id": "tynZI_jEG50I",
        "colab": {
          "base_uri": "https://localhost:8080/"
        },
        "outputId": "50f9a75c-9c1b-4f8b-f05c-ec217dad1b34"
      },
      "source": [
        "type(L) # But really, L is not a list!  It's a numpy.ndarray"
      ],
      "execution_count": null,
      "outputs": [
        {
          "output_type": "execute_result",
          "data": {
            "text/plain": [
              "numpy.ndarray"
            ]
          },
          "metadata": {},
          "execution_count": 20
        }
      ]
    },
    {
      "cell_type": "code",
      "metadata": {
        "id": "AFopmu7mG50J",
        "colab": {
          "base_uri": "https://localhost:8080/"
        },
        "outputId": "971b1291-c7b9-4ef7-d7f6-da76eff5fc80"
      },
      "source": [
        "type(L[0]) # NumPy is treating the terms with numpy types.  int64 is a 64-bit signed integer type."
      ],
      "execution_count": null,
      "outputs": [
        {
          "output_type": "execute_result",
          "data": {
            "text/plain": [
              "numpy.int64"
            ]
          },
          "metadata": {},
          "execution_count": 21
        }
      ]
    },
    {
      "cell_type": "code",
      "metadata": {
        "id": "XJYk7ZdxG50J",
        "colab": {
          "base_uri": "https://localhost:8080/"
        },
        "outputId": "41d34bbe-2520-4ae8-f0ae-75f680c71acb"
      },
      "source": [
        "print(L[1::3]) # Python list slices are supported in NumPy arrays."
      ],
      "execution_count": null,
      "outputs": [
        {
          "output_type": "stream",
          "name": "stdout",
          "text": [
            "[2 5 8]\n"
          ]
        }
      ]
    },
    {
      "cell_type": "markdown",
      "metadata": {
        "id": "EJqPCwNKG50J"
      },
      "source": [
        "So far, so good.  The NumPy array looks just like a Python list.  We can slice and access terms in the same way.  The only visible difference so far is that the type is different, using type `numpy.ndarray` for the array and `numpy.int64` for each of the terms.  Here is the [official documentation](https://numpy.org/doc/stable/reference/generated/numpy.ndarray.html) on the `numpy.ndarray` type. \n",
        "\n",
        "Here is where NumPy arrays really start to differ from lists."
      ]
    },
    {
      "cell_type": "code",
      "metadata": {
        "id": "PHaATagdG50J",
        "colab": {
          "base_uri": "https://localhost:8080/"
        },
        "outputId": "156a8cf7-bd16-48e1-90fd-360dae2d2ac7"
      },
      "source": [
        "L + L # What would this do for a list?"
      ],
      "execution_count": null,
      "outputs": [
        {
          "output_type": "execute_result",
          "data": {
            "text/plain": [
              "array([ 4,  8, 12, 16, 20, 24, 28, 32, 36, 40])"
            ]
          },
          "metadata": {},
          "execution_count": 25
        }
      ]
    },
    {
      "cell_type": "code",
      "source": [
        "L = L + L\n",
        "print(L)"
      ],
      "metadata": {
        "id": "fLMN191wieBQ",
        "outputId": "6a0bc1b2-ffed-49e8-f1e8-0c006c35046c",
        "colab": {
          "base_uri": "https://localhost:8080/"
        }
      },
      "execution_count": null,
      "outputs": [
        {
          "output_type": "stream",
          "name": "stdout",
          "text": [
            "[ 2  4  6  8 10 12 14 16 18 20]\n"
          ]
        }
      ]
    },
    {
      "cell_type": "code",
      "metadata": {
        "id": "km0mDD8qG50J",
        "colab": {
          "base_uri": "https://localhost:8080/"
        },
        "outputId": "1d9838d4-a49c-4c60-f08e-848b132a0440"
      },
      "source": [
        " 7 * L # What would this do for a list?\n"
      ],
      "execution_count": null,
      "outputs": [
        {
          "output_type": "execute_result",
          "data": {
            "text/plain": [
              "array([ 14,  28,  42,  56,  70,  84,  98, 112, 126, 140])"
            ]
          },
          "metadata": {},
          "execution_count": 29
        }
      ]
    },
    {
      "cell_type": "code",
      "metadata": {
        "id": "3mf5wWzCG50J",
        "colab": {
          "base_uri": "https://localhost:8080/"
        },
        "outputId": "f5797682-1ede-457d-9986-531cf568fd0b"
      },
      "source": [
        "L * L # What would this do for a list?"
      ],
      "execution_count": null,
      "outputs": [
        {
          "output_type": "execute_result",
          "data": {
            "text/plain": [
              "array([  1,   4,   9,  16,  25,  36,  49,  64,  81, 100])"
            ]
          },
          "metadata": {},
          "execution_count": 30
        }
      ]
    },
    {
      "cell_type": "code",
      "metadata": {
        "id": "vkRj5WjBG50K",
        "colab": {
          "base_uri": "https://localhost:8080/"
        },
        "outputId": "9facb283-afc7-410b-d22a-16858348a509"
      },
      "source": [
        "np.sin(L) # What would this do for a list?"
      ],
      "execution_count": null,
      "outputs": [
        {
          "output_type": "execute_result",
          "data": {
            "text/plain": [
              "array([ 0.90929743, -0.7568025 , -0.2794155 ,  0.98935825, -0.54402111,\n",
              "       -0.53657292,  0.99060736, -0.28790332, -0.75098725,  0.91294525])"
            ]
          },
          "metadata": {},
          "execution_count": 30
        }
      ]
    },
    {
      "cell_type": "markdown",
      "metadata": {
        "id": "XZyAmyhaG50K"
      },
      "source": [
        "WOAH!  That's completely different than how lists behave.  These computations indicate an important benefit of NumPy.  NumPy is really really good at doing functions to whole arrays of numbers.  In fact, if you try to operate on NumPy arrays, NumPy will try really hard to do the same function many times -- sometimes it will throw an error, but it is meant to behave well.\n",
        "\n",
        "A tradeoff is that NumPy arrays are less flexible than Python lists.  In particular, items in a NumPy array must *all have the same type*.  For example, consider the array below."
      ]
    },
    {
      "cell_type": "code",
      "metadata": {
        "id": "VzUACpuMG50K",
        "colab": {
          "base_uri": "https://localhost:8080/"
        },
        "outputId": "58bd351b-0c7b-4e5a-b980-51e4acbc76d1"
      },
      "source": [
        "M = np.array([1,2.5,3])  # It looks like an int, float, and int.\n",
        "for m in M:\n",
        "    print(m,\" has type \",type(m)) # What do you think this will do?"
      ],
      "execution_count": null,
      "outputs": [
        {
          "output_type": "stream",
          "name": "stdout",
          "text": [
            "1.0  has type  <class 'numpy.float64'>\n",
            "2.5  has type  <class 'numpy.float64'>\n",
            "3.0  has type  <class 'numpy.float64'>\n"
          ]
        }
      ]
    },
    {
      "cell_type": "code",
      "metadata": {
        "id": "EnrygH9XG50K",
        "colab": {
          "base_uri": "https://localhost:8080/"
        },
        "outputId": "7b6c471a-efb7-4237-d83b-0b81c3047d82"
      },
      "source": [
        "N = [1, 2.5, 3]\n",
        "for n in N:\n",
        "    print(n, \"has type \",type(n)) # Plain Python lists are type-flexible."
      ],
      "execution_count": null,
      "outputs": [
        {
          "output_type": "stream",
          "name": "stdout",
          "text": [
            "1 has type  <class 'int'>\n",
            "2.5 has type  <class 'float'>\n",
            "3 has type  <class 'int'>\n"
          ]
        }
      ]
    },
    {
      "cell_type": "markdown",
      "metadata": {
        "id": "iPxR4mM3G50K"
      },
      "source": [
        "NumPy will try to *coerce* lists so that all items have the same type.  This can lead to awkward results.  Be careful, and use the `type` command if you're unsure what happened!"
      ]
    },
    {
      "cell_type": "code",
      "metadata": {
        "id": "YxkIMS5AG50K",
        "colab": {
          "base_uri": "https://localhost:8080/"
        },
        "outputId": "6a008f5e-e483-45ef-c89c-c998063d7ad6"
      },
      "source": [
        "O = np.array([False, 2.5, 'Hello']) # NumPy has its own string type too.\n",
        "for o in O:\n",
        "    print(o, \"has type \",type(o))"
      ],
      "execution_count": null,
      "outputs": [
        {
          "output_type": "stream",
          "name": "stdout",
          "text": [
            "False has type  <class 'numpy.str_'>\n",
            "2.5 has type  <class 'numpy.str_'>\n",
            "Hello has type  <class 'numpy.str_'>\n"
          ]
        }
      ]
    },
    {
      "cell_type": "code",
      "metadata": {
        "id": "R_T6mGsrHhi2",
        "outputId": "46fb098e-4019-4b0b-a6d7-7b97252d9ca8",
        "colab": {
          "base_uri": "https://localhost:8080/"
        }
      },
      "source": [
        "print(O) # Look at what numpy has done to O!"
      ],
      "execution_count": null,
      "outputs": [
        {
          "output_type": "stream",
          "name": "stdout",
          "text": [
            "['False' '2.5' 'Hello']\n"
          ]
        }
      ]
    },
    {
      "cell_type": "code",
      "metadata": {
        "id": "-yClO2YYG50L",
        "outputId": "9bf705ae-8ad8-4de8-927a-179b1b401f84",
        "colab": {
          "base_uri": "https://localhost:8080/"
        }
      },
      "source": [
        "P = np.array([1, [2,3]]) # NumPy will not be happy with this.  "
      ],
      "execution_count": null,
      "outputs": [
        {
          "output_type": "stream",
          "name": "stderr",
          "text": [
            "<ipython-input-39-9fb7854545ca>:1: VisibleDeprecationWarning: Creating an ndarray from ragged nested sequences (which is a list-or-tuple of lists-or-tuples-or ndarrays with different lengths or shapes) is deprecated. If you meant to do this, you must specify 'dtype=object' when creating the ndarray.\n",
            "  P = np.array([1, [2,3]]) # NumPy will not be happy with this.\n"
          ]
        }
      ]
    },
    {
      "cell_type": "markdown",
      "metadata": {
        "id": "ao6PS_RnG50L"
      },
      "source": [
        "### Exercises\n",
        "\n",
        "1.  Use an np.array to make an array of square roots of all the numbers from 1 to 100.  The first few should be 1.0, 1.414..., 1.732.  Use the np.sqrt function and arrays, *not* a for or while loop.\n",
        "\n",
        "2.  Now do the same as above, but using plain Python lists.  Use the %timeit tool to compare the speed of the np.array approach with the plain Python approach.\n",
        "\n",
        "3.  If `L` is a list, what do the commands `L+L`, `7*L`, `L*L` produce?  How is this different from the results if `L` were a numpy array?\n",
        "\n",
        "4.  What types get coerced into what other types, when making a numpy array out of a mixed-type list?"
      ]
    },
    {
      "cell_type": "markdown",
      "source": [
        "Ex1."
      ],
      "metadata": {
        "id": "DnwKJd44j0Xr"
      }
    },
    {
      "cell_type": "code",
      "metadata": {
        "id": "AxofGzVIG50L",
        "outputId": "70b973be-c9ec-4858-cc60-9d8efd63cbf3",
        "colab": {
          "base_uri": "https://localhost:8080/"
        }
      },
      "source": [
        "N = np.array(range(1,101))\n",
        "N = np.sqrt(N)\n",
        "print(N)"
      ],
      "execution_count": null,
      "outputs": [
        {
          "output_type": "stream",
          "name": "stdout",
          "text": [
            "[ 1.          1.41421356  1.73205081  2.          2.23606798  2.44948974\n",
            "  2.64575131  2.82842712  3.          3.16227766  3.31662479  3.46410162\n",
            "  3.60555128  3.74165739  3.87298335  4.          4.12310563  4.24264069\n",
            "  4.35889894  4.47213595  4.58257569  4.69041576  4.79583152  4.89897949\n",
            "  5.          5.09901951  5.19615242  5.29150262  5.38516481  5.47722558\n",
            "  5.56776436  5.65685425  5.74456265  5.83095189  5.91607978  6.\n",
            "  6.08276253  6.164414    6.244998    6.32455532  6.40312424  6.4807407\n",
            "  6.55743852  6.63324958  6.70820393  6.78232998  6.8556546   6.92820323\n",
            "  7.          7.07106781  7.14142843  7.21110255  7.28010989  7.34846923\n",
            "  7.41619849  7.48331477  7.54983444  7.61577311  7.68114575  7.74596669\n",
            "  7.81024968  7.87400787  7.93725393  8.          8.06225775  8.1240384\n",
            "  8.18535277  8.24621125  8.30662386  8.36660027  8.42614977  8.48528137\n",
            "  8.54400375  8.60232527  8.66025404  8.71779789  8.77496439  8.83176087\n",
            "  8.88819442  8.94427191  9.          9.05538514  9.11043358  9.16515139\n",
            "  9.21954446  9.2736185   9.32737905  9.38083152  9.43398113  9.48683298\n",
            "  9.53939201  9.59166305  9.64365076  9.69535971  9.74679434  9.79795897\n",
            "  9.8488578   9.89949494  9.94987437 10.        ]\n"
          ]
        }
      ]
    },
    {
      "cell_type": "markdown",
      "source": [
        "Ex2."
      ],
      "metadata": {
        "id": "lNEs51Frly4v"
      }
    },
    {
      "cell_type": "code",
      "source": [
        "import math\n",
        "from math import sqrt\n",
        "p = [x for x in range(1,101)]\n",
        "P = [sqrt(x) for x in p]\n",
        "print(P)"
      ],
      "metadata": {
        "id": "OTGKM6enlxsq",
        "outputId": "1e786a0e-62bc-4fc6-c6df-fd6c5b06c620",
        "colab": {
          "base_uri": "https://localhost:8080/"
        }
      },
      "execution_count": null,
      "outputs": [
        {
          "output_type": "stream",
          "name": "stdout",
          "text": [
            "[1.0, 1.4142135623730951, 1.7320508075688772, 2.0, 2.23606797749979, 2.449489742783178, 2.6457513110645907, 2.8284271247461903, 3.0, 3.1622776601683795, 3.3166247903554, 3.4641016151377544, 3.605551275463989, 3.7416573867739413, 3.872983346207417, 4.0, 4.123105625617661, 4.242640687119285, 4.358898943540674, 4.47213595499958, 4.58257569495584, 4.69041575982343, 4.795831523312719, 4.898979485566356, 5.0, 5.0990195135927845, 5.196152422706632, 5.291502622129181, 5.385164807134504, 5.477225575051661, 5.5677643628300215, 5.656854249492381, 5.744562646538029, 5.830951894845301, 5.916079783099616, 6.0, 6.082762530298219, 6.164414002968976, 6.244997998398398, 6.324555320336759, 6.4031242374328485, 6.48074069840786, 6.557438524302, 6.6332495807108, 6.708203932499369, 6.782329983125268, 6.855654600401044, 6.928203230275509, 7.0, 7.0710678118654755, 7.14142842854285, 7.211102550927978, 7.280109889280518, 7.3484692283495345, 7.416198487095663, 7.483314773547883, 7.54983443527075, 7.615773105863909, 7.681145747868608, 7.745966692414834, 7.810249675906654, 7.874007874011811, 7.937253933193772, 8.0, 8.06225774829855, 8.12403840463596, 8.18535277187245, 8.246211251235321, 8.306623862918075, 8.366600265340756, 8.426149773176359, 8.48528137423857, 8.54400374531753, 8.602325267042627, 8.660254037844387, 8.717797887081348, 8.774964387392123, 8.831760866327848, 8.888194417315589, 8.94427190999916, 9.0, 9.055385138137417, 9.1104335791443, 9.16515138991168, 9.219544457292887, 9.273618495495704, 9.327379053088816, 9.38083151964686, 9.433981132056603, 9.486832980505138, 9.539392014169456, 9.591663046625438, 9.643650760992955, 9.695359714832659, 9.746794344808963, 9.797958971132712, 9.848857801796104, 9.899494936611665, 9.9498743710662, 10.0]\n"
          ]
        }
      ]
    },
    {
      "cell_type": "code",
      "source": [
        "%timeit np.sqrt(range(1,101))"
      ],
      "metadata": {
        "id": "g5Wj9D2PoZJQ",
        "outputId": "4e8a28dc-33e4-43d7-8bb3-faed8f6b1110",
        "colab": {
          "base_uri": "https://localhost:8080/"
        }
      },
      "execution_count": null,
      "outputs": [
        {
          "output_type": "stream",
          "name": "stdout",
          "text": [
            "11.7 µs ± 748 ns per loop (mean ± std. dev. of 7 runs, 10000 loops each)\n"
          ]
        }
      ]
    },
    {
      "cell_type": "code",
      "source": [
        "%timeit math.sqrt(x) in range(1,101)"
      ],
      "metadata": {
        "id": "aOAcI4w7oY7x",
        "outputId": "f0d4931c-456c-4f8d-acfe-1c8ab8b6f4a0",
        "colab": {
          "base_uri": "https://localhost:8080/"
        }
      },
      "execution_count": null,
      "outputs": [
        {
          "output_type": "stream",
          "name": "stdout",
          "text": [
            "3.72 µs ± 128 ns per loop (mean ± std. dev. of 7 runs, 100000 loops each)\n"
          ]
        }
      ]
    },
    {
      "cell_type": "markdown",
      "source": [
        "Ex3.\n"
      ],
      "metadata": {
        "id": "sqmN2MtSm3Zl"
      }
    },
    {
      "cell_type": "code",
      "source": [
        "L = list(range(1,5))\n",
        "L + L"
      ],
      "metadata": {
        "id": "OjUxQZRMm5X_",
        "outputId": "3954d6a0-2295-4242-b97c-1d29387d4864",
        "colab": {
          "base_uri": "https://localhost:8080/",
          "height": 204
        }
      },
      "execution_count": null,
      "outputs": [
        {
          "output_type": "error",
          "ename": "TypeError",
          "evalue": "ignored",
          "traceback": [
            "\u001b[0;31m---------------------------------------------------------------------------\u001b[0m",
            "\u001b[0;31mTypeError\u001b[0m                                 Traceback (most recent call last)",
            "\u001b[0;32m<ipython-input-78-c2742cc581ec>\u001b[0m in \u001b[0;36m<module>\u001b[0;34m\u001b[0m\n\u001b[1;32m      2\u001b[0m \u001b[0mL\u001b[0m \u001b[0;34m+\u001b[0m \u001b[0mL\u001b[0m\u001b[0;34m\u001b[0m\u001b[0;34m\u001b[0m\u001b[0m\n\u001b[1;32m      3\u001b[0m \u001b[0;36m7\u001b[0m \u001b[0;34m*\u001b[0m \u001b[0mL\u001b[0m\u001b[0;34m\u001b[0m\u001b[0;34m\u001b[0m\u001b[0m\n\u001b[0;32m----> 4\u001b[0;31m \u001b[0mL\u001b[0m \u001b[0;34m*\u001b[0m \u001b[0mL\u001b[0m\u001b[0;34m\u001b[0m\u001b[0;34m\u001b[0m\u001b[0m\n\u001b[0m",
            "\u001b[0;31mTypeError\u001b[0m: can't multiply sequence by non-int of type 'list'"
          ]
        }
      ]
    },
    {
      "cell_type": "code",
      "source": [
        "7 * L"
      ],
      "metadata": {
        "id": "kRWZjOCSqZxd",
        "outputId": "e2eeca66-aca2-4d95-b8fb-6cd8ff043f49",
        "colab": {
          "base_uri": "https://localhost:8080/"
        }
      },
      "execution_count": null,
      "outputs": [
        {
          "output_type": "execute_result",
          "data": {
            "text/plain": [
              "[1,\n",
              " 2,\n",
              " 3,\n",
              " 4,\n",
              " 1,\n",
              " 2,\n",
              " 3,\n",
              " 4,\n",
              " 1,\n",
              " 2,\n",
              " 3,\n",
              " 4,\n",
              " 1,\n",
              " 2,\n",
              " 3,\n",
              " 4,\n",
              " 1,\n",
              " 2,\n",
              " 3,\n",
              " 4,\n",
              " 1,\n",
              " 2,\n",
              " 3,\n",
              " 4,\n",
              " 1,\n",
              " 2,\n",
              " 3,\n",
              " 4]"
            ]
          },
          "metadata": {},
          "execution_count": 79
        }
      ]
    },
    {
      "cell_type": "code",
      "source": [
        "L * L"
      ],
      "metadata": {
        "id": "psdg8JRgqoAv",
        "outputId": "8426655e-7719-4e1c-b320-50ffba4dd25f",
        "colab": {
          "base_uri": "https://localhost:8080/",
          "height": 169
        }
      },
      "execution_count": null,
      "outputs": [
        {
          "output_type": "error",
          "ename": "TypeError",
          "evalue": "ignored",
          "traceback": [
            "\u001b[0;31m---------------------------------------------------------------------------\u001b[0m",
            "\u001b[0;31mTypeError\u001b[0m                                 Traceback (most recent call last)",
            "\u001b[0;32m<ipython-input-80-1504eaf467f8>\u001b[0m in \u001b[0;36m<module>\u001b[0;34m\u001b[0m\n\u001b[0;32m----> 1\u001b[0;31m \u001b[0mL\u001b[0m \u001b[0;34m*\u001b[0m \u001b[0mL\u001b[0m\u001b[0;34m\u001b[0m\u001b[0;34m\u001b[0m\u001b[0m\n\u001b[0m",
            "\u001b[0;31mTypeError\u001b[0m: can't multiply sequence by non-int of type 'list'"
          ]
        }
      ]
    },
    {
      "cell_type": "markdown",
      "source": [
        "Ex4."
      ],
      "metadata": {
        "id": "BtanmB-Nqt4P"
      }
    },
    {
      "cell_type": "code",
      "source": [
        "O = np.array([False,2,2.5, 'Hello'])\n",
        "for o in O:\n",
        "    print(o, \"has type \",type(o))"
      ],
      "metadata": {
        "id": "DyYFypRHqu53",
        "outputId": "9b4f3ccd-ce05-4552-aa52-c9bf0f863478",
        "colab": {
          "base_uri": "https://localhost:8080/"
        }
      },
      "execution_count": null,
      "outputs": [
        {
          "output_type": "stream",
          "name": "stdout",
          "text": [
            "False has type  <class 'numpy.str_'>\n",
            "2 has type  <class 'numpy.str_'>\n",
            "2.5 has type  <class 'numpy.str_'>\n",
            "Hello has type  <class 'numpy.str_'>\n"
          ]
        }
      ]
    },
    {
      "cell_type": "code",
      "source": [
        "O = np.array([False,2,2.5])\n",
        "for o in O:\n",
        "    print(o, \"has type \",type(o))"
      ],
      "metadata": {
        "id": "DGVQjzB2q2e-",
        "outputId": "3d8dc088-10d9-495f-d8c0-1484870e41ec",
        "colab": {
          "base_uri": "https://localhost:8080/"
        }
      },
      "execution_count": null,
      "outputs": [
        {
          "output_type": "stream",
          "name": "stdout",
          "text": [
            "0.0 has type  <class 'numpy.float64'>\n",
            "2.0 has type  <class 'numpy.float64'>\n",
            "2.5 has type  <class 'numpy.float64'>\n"
          ]
        }
      ]
    },
    {
      "cell_type": "code",
      "source": [
        "O = np.array([2,2.5])\n",
        "for o in O:\n",
        "    print(o, \"has type \",type(o))"
      ],
      "metadata": {
        "id": "4U1x_flDq4g0",
        "outputId": "3b937679-fb74-4150-ca17-19748780f05b",
        "colab": {
          "base_uri": "https://localhost:8080/"
        }
      },
      "execution_count": null,
      "outputs": [
        {
          "output_type": "stream",
          "name": "stdout",
          "text": [
            "2.0 has type  <class 'numpy.float64'>\n",
            "2.5 has type  <class 'numpy.float64'>\n"
          ]
        }
      ]
    },
    {
      "cell_type": "code",
      "source": [
        "O = np.array([False,2])\n",
        "for o in O:\n",
        "    print(o, \"has type \",type(o))"
      ],
      "metadata": {
        "id": "mVnt6EmIrYgl",
        "outputId": "20ab4e71-f766-4bbd-cab8-9a32bcc1eb8b",
        "colab": {
          "base_uri": "https://localhost:8080/"
        }
      },
      "execution_count": null,
      "outputs": [
        {
          "output_type": "stream",
          "name": "stdout",
          "text": [
            "0 has type  <class 'numpy.int64'>\n",
            "2 has type  <class 'numpy.int64'>\n"
          ]
        }
      ]
    },
    {
      "cell_type": "code",
      "source": [
        "O = np.array([False,True])\n",
        "for o in O:\n",
        "    print(o, \"has type \",type(o))"
      ],
      "metadata": {
        "id": "pWYHP66grreZ",
        "outputId": "3861f954-26c2-479f-fa98-c125bd2d78d7",
        "colab": {
          "base_uri": "https://localhost:8080/"
        }
      },
      "execution_count": null,
      "outputs": [
        {
          "output_type": "stream",
          "name": "stdout",
          "text": [
            "False has type  <class 'numpy.bool_'>\n",
            "True has type  <class 'numpy.bool_'>\n"
          ]
        }
      ]
    },
    {
      "cell_type": "markdown",
      "source": [
        "numpy.str_ > numpy.float64_ > numpy.int64_ > numpy.bool_ \n",
        "      For example, as the array contains a string, all other type will coerce into \"numpy.str_\". As the array contains a float without strings, all other type will coerce into \"numpy.float64_\". "
      ],
      "metadata": {
        "id": "T8QRRzMGrJW0"
      }
    },
    {
      "cell_type": "markdown",
      "metadata": {
        "id": "q2FM0Vk8G50L"
      },
      "source": [
        "## Higher-dimensional arrays\n",
        "\n",
        "Lists in Python are \"one-dimensional\".  A list like `L = [1,2,3]` has a zeroth, first, and second item (or \"element\" or \"entry\"), which can be retrieved with `L[0]` or `L[1]` or `L[2]`.  For matrices, or other multidimensional arrangements, one might wish for a list which is \"doubly-indexed\" -- something where the entries would be retrieved with a command like `L[1,2]` (for something in the 1st row and 2nd column).  It's possible to make this work in plain Python by using lists of lists.  For example, if `M = [[1,2],[3,4]]` is a list of lists, then you can retrieve numbers with commands like `M[0][1]`.  But this gets a bit cumbersome and is not optimized for typical operations on matrices.\n",
        "\n",
        "### Making multidimensional arrays\n",
        "\n",
        "NumPy arrays can be, and often are, multidimensional.  In fact, why is the NumPy type called `numpy.ndarray` instead of `numpy.array`?  The `nd` in `ndarray` stands for \"n-D\" or \"n-dimensional\".  Accessing elements and slicing multidimensional arrays takes a bit of practice, and that's what we'll do here."
      ]
    },
    {
      "cell_type": "code",
      "metadata": {
        "id": "8Hb4SqpzG50L"
      },
      "source": [
        "M = np.array([[1,2,3],[4,5,6]])  # Put a list of lists into an array."
      ],
      "execution_count": null,
      "outputs": []
    },
    {
      "cell_type": "code",
      "metadata": {
        "id": "ohkl10AjG50M",
        "outputId": "27d139e7-1335-4508-b8fb-103256b43a7a",
        "colab": {
          "base_uri": "https://localhost:8080/"
        }
      },
      "source": [
        "print(M)"
      ],
      "execution_count": null,
      "outputs": [
        {
          "output_type": "stream",
          "name": "stdout",
          "text": [
            "[[1 2 3]\n",
            " [4 5 6]]\n"
          ]
        }
      ]
    },
    {
      "cell_type": "markdown",
      "metadata": {
        "id": "sN5IfLnAG50M"
      },
      "source": [
        "If we put a list of lists into an `np.array` then NumPy will try to put it into a single \"multi-dimensional\" array.  Here, NumPy has taken a list of two lists and assembled the items into a two-by-three matrix.  When you use the print command, it will print nicely."
      ]
    },
    {
      "cell_type": "code",
      "metadata": {
        "id": "PnmUbb-VG50M",
        "outputId": "b0b65a9e-eff6-4046-f01b-d99764065334",
        "colab": {
          "base_uri": "https://localhost:8080/"
        }
      },
      "source": [
        "BadM = np.array([[1,2,3],[1,2]])  # Bad idea."
      ],
      "execution_count": null,
      "outputs": [
        {
          "output_type": "stream",
          "name": "stderr",
          "text": [
            "<ipython-input-17-230213a6541e>:1: VisibleDeprecationWarning: Creating an ndarray from ragged nested sequences (which is a list-or-tuple of lists-or-tuples-or ndarrays with different lengths or shapes) is deprecated. If you meant to do this, you must specify 'dtype=object' when creating the ndarray.\n",
            "  BadM = np.array([[1,2,3],[1,2]])  # Bad idea.\n"
          ]
        }
      ]
    },
    {
      "cell_type": "code",
      "metadata": {
        "id": "EVDW8gFOG50M",
        "outputId": "723957af-cb55-4a24-e26c-3e9100356127",
        "colab": {
          "base_uri": "https://localhost:8080/"
        }
      },
      "source": [
        "print(BadM) # This will not be pretty."
      ],
      "execution_count": null,
      "outputs": [
        {
          "output_type": "stream",
          "name": "stdout",
          "text": [
            "[list([1, 2, 3]) list([1, 2])]\n"
          ]
        }
      ]
    },
    {
      "cell_type": "markdown",
      "metadata": {
        "id": "sQ5m0NrVG50M"
      },
      "source": [
        "If your lists don't have the right size to form a matrix, numpy will fail to create a multidimensional array.  It will do its best, but the results won't be pretty!\n",
        "\n",
        "Returning to our nice matrix `M`... just as lists have a single *length* accessed with `len`, multidimensional arrays have a `shape` which describes the number of rows, columns, etc..  This is accessed with the shape *method*."
      ]
    },
    {
      "cell_type": "code",
      "metadata": {
        "id": "0bdGc2NOG50M",
        "outputId": "39670806-ac87-476d-a7ee-130f8c9a6193",
        "colab": {
          "base_uri": "https://localhost:8080/"
        }
      },
      "source": [
        "print(M)\n",
        "M.shape  # shape is an attribute of every matrix.  You don't write shape(M), you write M.shape  "
      ],
      "execution_count": null,
      "outputs": [
        {
          "output_type": "stream",
          "name": "stdout",
          "text": [
            "[[1 2 3]\n",
            " [4 5 6]]\n"
          ]
        },
        {
          "output_type": "execute_result",
          "data": {
            "text/plain": [
              "(2, 3)"
            ]
          },
          "metadata": {},
          "execution_count": 18
        }
      ]
    },
    {
      "cell_type": "code",
      "metadata": {
        "id": "UTXJVVAfG50M",
        "outputId": "5c7fbd34-e1e1-4153-93ce-1e24b9029605",
        "colab": {
          "base_uri": "https://localhost:8080/"
        }
      },
      "source": [
        "type(M.shape) # We haven't seen this type in a while!"
      ],
      "execution_count": null,
      "outputs": [
        {
          "output_type": "execute_result",
          "data": {
            "text/plain": [
              "tuple"
            ]
          },
          "metadata": {},
          "execution_count": 19
        }
      ]
    },
    {
      "cell_type": "code",
      "metadata": {
        "scrolled": true,
        "id": "TeAShdJCG50N",
        "outputId": "e5c46ab6-7243-486f-b117-cefe4f3485f0",
        "colab": {
          "base_uri": "https://localhost:8080/"
        }
      },
      "source": [
        "print(2*M)"
      ],
      "execution_count": null,
      "outputs": [
        {
          "output_type": "stream",
          "name": "stdout",
          "text": [
            "[[ 2  4  6]\n",
            " [ 8 10 12]]\n"
          ]
        }
      ]
    },
    {
      "cell_type": "code",
      "metadata": {
        "id": "FlaNs9_FG50N",
        "outputId": "b0e9be1e-bc1f-4a04-8497-144b95f80b6c",
        "colab": {
          "base_uri": "https://localhost:8080/"
        }
      },
      "source": [
        "print(M*M)"
      ],
      "execution_count": null,
      "outputs": [
        {
          "output_type": "stream",
          "name": "stdout",
          "text": [
            "[[ 1  4  9]\n",
            " [16 25 36]]\n"
          ]
        }
      ]
    },
    {
      "cell_type": "markdown",
      "metadata": {
        "id": "-jO7OBwmG50N"
      },
      "source": [
        "Basic operations and numpy-enabled functions are \"broadcast\" through higher-dimensional arrays, just like they are through one-dimensional list-like arrays.\n",
        "\n",
        "Sometimes it is useful to create arrays of a given shape that are empty, or full of zeros, or full of ones, or full of a single number, or full of random numbers.  You can read about more ways to create arrays from [the official documentation](https://numpy.org/doc/stable/user/basics.creation.html).  The following examples were taken from [another tutorial](http://cs231n.github.io/python-numpy-tutorial/#scipy-image)"
      ]
    },
    {
      "cell_type": "code",
      "metadata": {
        "id": "0I-GFaj3G50N",
        "outputId": "ca634631-7042-46e6-f194-626333db02fe",
        "colab": {
          "base_uri": "https://localhost:8080/"
        }
      },
      "source": [
        "a = np.zeros((3,4))   # Create an array of all zeros, of the given shape (3 rows, 4 columns)\n",
        "print(a)            "
      ],
      "execution_count": null,
      "outputs": [
        {
          "output_type": "stream",
          "name": "stdout",
          "text": [
            "[[0. 0. 0. 0.]\n",
            " [0. 0. 0. 0.]\n",
            " [0. 0. 0. 0.]]\n"
          ]
        }
      ]
    },
    {
      "cell_type": "code",
      "metadata": {
        "id": "0dgg3QkDG50N",
        "outputId": "4902faef-476f-4705-bd4e-c0b92e95b4e2",
        "colab": {
          "base_uri": "https://localhost:8080/"
        }
      },
      "source": [
        "b = np.ones((4,2))    # Create an array of all ones, of the given shape.  Note the shape is a tuple.\n",
        "print(b)              "
      ],
      "execution_count": null,
      "outputs": [
        {
          "output_type": "stream",
          "name": "stdout",
          "text": [
            "[[1. 1.]\n",
            " [1. 1.]\n",
            " [1. 1.]\n",
            " [1. 1.]]\n"
          ]
        }
      ]
    },
    {
      "cell_type": "code",
      "metadata": {
        "id": "3wiNL_9CG50N",
        "outputId": "292608eb-d8e2-4376-b6b8-a96aaf2184a7",
        "colab": {
          "base_uri": "https://localhost:8080/"
        }
      },
      "source": [
        "c = np.full((3,5), 7)  # Create a constant array, of the given shape and constant.\n",
        "print(c)               "
      ],
      "execution_count": null,
      "outputs": [
        {
          "output_type": "stream",
          "name": "stdout",
          "text": [
            "[[7 7 7 7 7]\n",
            " [7 7 7 7 7]\n",
            " [7 7 7 7 7]]\n"
          ]
        }
      ]
    },
    {
      "cell_type": "code",
      "metadata": {
        "id": "jwkrYAc_G50N",
        "outputId": "ba6dce2a-df7e-42ca-fe2d-9c7b064952d2",
        "colab": {
          "base_uri": "https://localhost:8080/"
        }
      },
      "source": [
        "d = np.eye(3)         # Create an identity matrix (square) of the given size.\n",
        "print(d)              "
      ],
      "execution_count": null,
      "outputs": [
        {
          "output_type": "stream",
          "name": "stdout",
          "text": [
            "[[1. 0. 0.]\n",
            " [0. 1. 0.]\n",
            " [0. 0. 1.]]\n"
          ]
        }
      ]
    },
    {
      "cell_type": "code",
      "metadata": {
        "id": "pfskGRu9G50O",
        "outputId": "a32d85b1-c0da-422f-ab3e-9957d2bad628",
        "colab": {
          "base_uri": "https://localhost:8080/"
        }
      },
      "source": [
        "e = np.random.random((4,4))  # Create an array filled with random floats between 0 and 1.\n",
        "print(e)               "
      ],
      "execution_count": null,
      "outputs": [
        {
          "output_type": "stream",
          "name": "stdout",
          "text": [
            "[[0.83718681 0.96101874 0.41913166 0.76507545]\n",
            " [0.16885771 0.7293698  0.21456034 0.70926307]\n",
            " [0.14574655 0.81583012 0.36775064 0.22782428]\n",
            " [0.9998584  0.49214595 0.34013737 0.36368248]]\n"
          ]
        }
      ]
    },
    {
      "cell_type": "code",
      "metadata": {
        "id": "ngVvQqdMG50O",
        "outputId": "df1be3bf-6ab2-4dce-c94d-9ef535a5ac09",
        "colab": {
          "base_uri": "https://localhost:8080/"
        }
      },
      "source": [
        "f = np.random.randint(1,7,(5,3)) # Roll the dice... an array of random integers between 1 and 6.\n",
        "print(f)"
      ],
      "execution_count": null,
      "outputs": [
        {
          "output_type": "stream",
          "name": "stdout",
          "text": [
            "[[1 4 1]\n",
            " [3 2 6]\n",
            " [3 5 1]\n",
            " [3 2 1]\n",
            " [3 5 1]]\n"
          ]
        }
      ]
    },
    {
      "cell_type": "code",
      "metadata": {
        "id": "oPLVsVKQG50O",
        "outputId": "44a9785b-1f1d-4627-cff9-30c00eea5e3f",
        "colab": {
          "base_uri": "https://localhost:8080/"
        }
      },
      "source": [
        "cube = np.random.random((2,2,2)) # Why stop at 2-dimensional arrays?  Let's make a cube!\n",
        "print(cube)"
      ],
      "execution_count": null,
      "outputs": [
        {
          "output_type": "stream",
          "name": "stdout",
          "text": [
            "[[[0.96821951 0.82950709]\n",
            "  [0.24900528 0.3000433 ]]\n",
            "\n",
            " [[0.46895581 0.78224462]\n",
            "  [0.19489802 0.03380032]]]\n"
          ]
        }
      ]
    },
    {
      "cell_type": "markdown",
      "metadata": {
        "id": "IKz4qDEQG50O"
      },
      "source": [
        "NumPy can work with 3-dimensional, 4-dimensional, etc., arrays with ease.  *Printing* high-dimensional arrays on our 2-dimensional computer monitors might not be pretty, but NumPy will do its best.\n",
        "\n",
        "### A random interlude\n",
        "\n",
        "The previous few examples used NumPy's random subpackage -- a series of functions which can be used to generate \"random\" numbers.  There's a whole science to generating \"random\" and [really random](https://en.wikipedia.org/wiki/Hardware_random_number_generator) numbers.  It can be difficult to convince a computer, designed for predictable operations, to produce truly unpredictbale numbers.  In fact, NumPy's random number generator uses the [Mersenne Twister](https://en.wikipedia.org/wiki/Mersenne_Twister) to generate *pseudo-random* numbers.  These are great for most scientific purposes, e.g., for random sampling.  But they are *not* cryptographically secure -- they should be not be used for generating random cryptographic keys to keep your data secure.  \n",
        "\n",
        "Read the [Numpy documentation](https://numpy.org/doc/1.16/reference/routines.random.html) for more about the capabilities of the random subpackage.  Here are a couple examples to give a quick survey."
      ]
    },
    {
      "cell_type": "code",
      "metadata": {
        "id": "SofAdRCWG50O",
        "outputId": "14a7ad0c-d6ff-419c-b06e-af98c79b3220",
        "colab": {
          "base_uri": "https://localhost:8080/"
        }
      },
      "source": [
        "np.random.random(3)  # An array of three numbers, uniformly at random in [0,1)"
      ],
      "execution_count": null,
      "outputs": [
        {
          "output_type": "execute_result",
          "data": {
            "text/plain": [
              "array([0.70170947, 0.25120222, 0.73400709])"
            ]
          },
          "metadata": {},
          "execution_count": 3
        }
      ]
    },
    {
      "cell_type": "code",
      "metadata": {
        "id": "MgS7Hk8lG50O",
        "outputId": "ebfc3209-b934-4df4-f5ad-0aebf3f23824",
        "colab": {
          "base_uri": "https://localhost:8080/"
        }
      },
      "source": [
        "np.random.randint(1, 7, (5,5))  # Twenty-five rolls of the dice (random ints).  Note the list-like bottom/top of range."
      ],
      "execution_count": null,
      "outputs": [
        {
          "output_type": "execute_result",
          "data": {
            "text/plain": [
              "array([[6, 5, 6, 4, 6],\n",
              "       [1, 6, 6, 5, 1],\n",
              "       [5, 2, 3, 1, 4],\n",
              "       [2, 2, 4, 5, 1],\n",
              "       [6, 6, 2, 5, 2]])"
            ]
          },
          "metadata": {},
          "execution_count": 4
        }
      ]
    },
    {
      "cell_type": "code",
      "source": [
        "np.random.randint(1,18,(3,4))"
      ],
      "metadata": {
        "id": "V9FSgRoIdAH_",
        "outputId": "6dc09440-36f6-4943-84da-d6cda6b06c9c",
        "colab": {
          "base_uri": "https://localhost:8080/"
        }
      },
      "execution_count": null,
      "outputs": [
        {
          "output_type": "execute_result",
          "data": {
            "text/plain": [
              "array([[15, 11, 11, 12],\n",
              "       [15,  6,  8, 16],\n",
              "       [ 2, 17,  7,  5]])"
            ]
          },
          "metadata": {},
          "execution_count": 6
        }
      ]
    },
    {
      "cell_type": "code",
      "metadata": {
        "id": "OyP4-jSFG50O",
        "outputId": "20b8b9b7-4608-4655-9c84-bac4dbafdac6",
        "colab": {
          "base_uri": "https://localhost:8080/",
          "height": 134
        }
      },
      "source": [
        "\"np.random.choice(['apple', 'banana', 'orange', 'plum'], 10) # Ten random choices from the list."
      ],
      "execution_count": null,
      "outputs": [
        {
          "output_type": "error",
          "ename": "SyntaxError",
          "evalue": "ignored",
          "traceback": [
            "\u001b[0;36m  File \u001b[0;32m\"<ipython-input-7-cb515e603e48>\"\u001b[0;36m, line \u001b[0;32m1\u001b[0m\n\u001b[0;31m    \"np.random.choice(['apple', 'banana', 'orange', 'plum'], 10) # Ten random choices from the list.\u001b[0m\n\u001b[0m                                                                                                    ^\u001b[0m\n\u001b[0;31mSyntaxError\u001b[0m\u001b[0;31m:\u001b[0m EOL while scanning string literal\n"
          ]
        }
      ]
    },
    {
      "cell_type": "code",
      "metadata": {
        "id": "i2W7sx4uG50O",
        "outputId": "3d25b96d-8777-46b8-ad20-204e40d61d30",
        "colab": {
          "base_uri": "https://localhost:8080/"
        }
      },
      "source": [
        "np.random.randn(10) # Ten random choices from the *normal* or *Gaussian* distribution, mean 0, std 1."
      ],
      "execution_count": null,
      "outputs": [
        {
          "output_type": "execute_result",
          "data": {
            "text/plain": [
              "array([-0.69626326,  0.47056855, -0.96489363,  0.45305617,  0.57681833,\n",
              "       -0.37484836, -0.65572814,  0.48963507,  0.08042908, -0.8223297 ])"
            ]
          },
          "metadata": {},
          "execution_count": 14
        }
      ]
    },
    {
      "cell_type": "markdown",
      "metadata": {
        "id": "2fQz10w6G50P"
      },
      "source": [
        "### Accessing and slicing multi-dimensional arrays\n",
        "\n",
        "How do we access the terms of a multi-dimensional array?  Let's return to our 2x3 example."
      ]
    },
    {
      "cell_type": "code",
      "metadata": {
        "id": "oStMIIcrG50P",
        "outputId": "90bf5614-e051-43d9-8a21-502e97adaace",
        "colab": {
          "base_uri": "https://localhost:8080/"
        }
      },
      "source": [
        "print(M) # Remember this matrix?"
      ],
      "execution_count": null,
      "outputs": [
        {
          "output_type": "stream",
          "name": "stdout",
          "text": [
            "[[1 2 3]\n",
            " [4 5 6]]\n"
          ]
        }
      ]
    },
    {
      "cell_type": "code",
      "metadata": {
        "id": "ijHduhAxG50P",
        "outputId": "da42d9c7-ea74-4728-d4f7-6ec7a6f3a26a",
        "colab": {
          "base_uri": "https://localhost:8080/"
        }
      },
      "source": [
        "print(M[0,0], M[0,1], M[0,2]) # What do you think this will do?"
      ],
      "execution_count": null,
      "outputs": [
        {
          "output_type": "stream",
          "name": "stdout",
          "text": [
            "1 2 3\n"
          ]
        }
      ]
    },
    {
      "cell_type": "code",
      "metadata": {
        "id": "Q3OaCet7G50P",
        "outputId": "3c2b7773-5794-4d68-8174-fa07740705aa",
        "colab": {
          "base_uri": "https://localhost:8080/"
        }
      },
      "source": [
        "print(M[1,0],M[1,1],M[1,2]) # And this?"
      ],
      "execution_count": null,
      "outputs": [
        {
          "output_type": "stream",
          "name": "stdout",
          "text": [
            "4 5 6\n"
          ]
        }
      ]
    },
    {
      "cell_type": "markdown",
      "metadata": {
        "id": "eYe2HMnpG50P"
      },
      "source": [
        "The syntax `M[x,y]` retrieves the value in row #x and column #y, using the Pythonic convention that all numbering starts at zero.  This enables quick access to individual values.  This row-then-column syntax extends to all sorts of array-slicing.  To see this, we begin by creating a bigger matrix.  We'll use the NumPy `reshape` command to take an ordinary 1-dimensional array (the numbers 0...99) and *reshape* this array into a 2-dimensional array with 5 rows and 20 columns."
      ]
    },
    {
      "cell_type": "code",
      "metadata": {
        "id": "8OGXS_qaG50P",
        "outputId": "dc94c13c-b1cc-4957-d7b1-3bae1337f8fc",
        "colab": {
          "base_uri": "https://localhost:8080/"
        }
      },
      "source": [
        "A = np.array(range(100))\n",
        "print(A) # There might seem to be multiple rows, but that's just because A doesn't fit on a single line.\n",
        "B = np.reshape(A,(5,20))\n",
        "print(B) # Notice the extra brackets!  This is a 2-dimensional array, i.e., a matrix."
      ],
      "execution_count": null,
      "outputs": [
        {
          "output_type": "stream",
          "name": "stdout",
          "text": [
            "[ 0  1  2  3  4  5  6  7  8  9 10 11 12 13 14 15 16 17 18 19 20 21 22 23\n",
            " 24 25 26 27 28 29 30 31 32 33 34 35 36 37 38 39 40 41 42 43 44 45 46 47\n",
            " 48 49 50 51 52 53 54 55 56 57 58 59 60 61 62 63 64 65 66 67 68 69 70 71\n",
            " 72 73 74 75 76 77 78 79 80 81 82 83 84 85 86 87 88 89 90 91 92 93 94 95\n",
            " 96 97 98 99]\n",
            "[[ 0  1  2  3  4  5  6  7  8  9 10 11 12 13 14 15 16 17 18 19]\n",
            " [20 21 22 23 24 25 26 27 28 29 30 31 32 33 34 35 36 37 38 39]\n",
            " [40 41 42 43 44 45 46 47 48 49 50 51 52 53 54 55 56 57 58 59]\n",
            " [60 61 62 63 64 65 66 67 68 69 70 71 72 73 74 75 76 77 78 79]\n",
            " [80 81 82 83 84 85 86 87 88 89 90 91 92 93 94 95 96 97 98 99]]\n"
          ]
        }
      ]
    },
    {
      "cell_type": "code",
      "metadata": {
        "id": "xgoXloAYG50P",
        "outputId": "d3473786-76d5-456a-dce9-256f14fc616b",
        "colab": {
          "base_uri": "https://localhost:8080/"
        }
      },
      "source": [
        "print(B) # The whole matrix."
      ],
      "execution_count": null,
      "outputs": [
        {
          "output_type": "stream",
          "name": "stdout",
          "text": [
            "[[ 0  1  2  3  4  5  6  7  8  9 10 11 12 13 14 15 16 17 18 19]\n",
            " [20 21 22 23 24 25 26 27 28 29 30 31 32 33 34 35 36 37 38 39]\n",
            " [40 41 42 43 44 45 46 47 48 49 50 51 52 53 54 55 56 57 58 59]\n",
            " [60 61 62 63 64 65 66 67 68 69 70 71 72 73 74 75 76 77 78 79]\n",
            " [80 81 82 83 84 85 86 87 88 89 90 91 92 93 94 95 96 97 98 99]]\n"
          ]
        }
      ]
    },
    {
      "cell_type": "code",
      "metadata": {
        "id": "g0eQnCLbG50P",
        "outputId": "0bcb7dc1-09eb-4364-8bc6-de0ea0062dee",
        "colab": {
          "base_uri": "https://localhost:8080/"
        }
      },
      "source": [
        "print(B[1,:]) # Row 1.  Column anything."
      ],
      "execution_count": null,
      "outputs": [
        {
          "output_type": "stream",
          "name": "stdout",
          "text": [
            "[20 21 22 23 24 25 26 27 28 29 30 31 32 33 34 35 36 37 38 39]\n"
          ]
        }
      ]
    },
    {
      "cell_type": "code",
      "metadata": {
        "id": "jmvvAphNG50Q",
        "outputId": "4d06d476-891f-4269-8f7b-e05f988f9b72",
        "colab": {
          "base_uri": "https://localhost:8080/"
        }
      },
      "source": [
        "print(B[:, 2]) # Column 2.  Row anything. Notice that it's formatted as a 1-dimensional array!  No longer vertical!"
      ],
      "execution_count": null,
      "outputs": [
        {
          "output_type": "stream",
          "name": "stdout",
          "text": [
            "[ 2 22 42 62 82]\n"
          ]
        }
      ]
    },
    {
      "cell_type": "code",
      "metadata": {
        "id": "IVuwLtMxG50Q",
        "outputId": "89c18ae4-cdff-4d49-d641-88b6a1d2fe0c",
        "colab": {
          "base_uri": "https://localhost:8080/"
        }
      },
      "source": [
        "type(B[:,2]) # Still a numpy array."
      ],
      "execution_count": null,
      "outputs": [
        {
          "output_type": "execute_result",
          "data": {
            "text/plain": [
              "numpy.ndarray"
            ]
          },
          "metadata": {},
          "execution_count": 47
        }
      ]
    },
    {
      "cell_type": "code",
      "metadata": {
        "id": "1HPO8oFQG50Q",
        "outputId": "d06cc7b8-17c6-43c8-a8af-bc022f4dec75",
        "colab": {
          "base_uri": "https://localhost:8080/"
        }
      },
      "source": [
        "print(B[:, 1::2]) # Every row.  Which columns do you think will be displayed?  Remember start:stop:skip."
      ],
      "execution_count": null,
      "outputs": [
        {
          "output_type": "stream",
          "name": "stdout",
          "text": [
            "[[ 1  3  5  7  9 11 13 15 17 19]\n",
            " [21 23 25 27 29 31 33 35 37 39]\n",
            " [41 43 45 47 49 51 53 55 57 59]\n",
            " [61 63 65 67 69 71 73 75 77 79]\n",
            " [81 83 85 87 89 91 93 95 97 99]]\n"
          ]
        }
      ]
    },
    {
      "cell_type": "code",
      "metadata": {
        "id": "s-xnNmEqG50Q",
        "outputId": "b275fc95-4a3f-41e8-9606-794de259b307",
        "colab": {
          "base_uri": "https://localhost:8080/"
        }
      },
      "source": [
        "print(B[1:, 3:5]) # Predict what will happen before you run it."
      ],
      "execution_count": null,
      "outputs": [
        {
          "output_type": "stream",
          "name": "stdout",
          "text": [
            "[[23 24]\n",
            " [43 44]\n",
            " [63 64]\n",
            " [83 84]]\n"
          ]
        }
      ]
    },
    {
      "cell_type": "markdown",
      "metadata": {
        "id": "ND6GZDOZG50Q"
      },
      "source": [
        "NumPy has nice commands to operate on rows and columns of arrays."
      ]
    },
    {
      "cell_type": "code",
      "metadata": {
        "id": "-EealhzXG50Q",
        "outputId": "6e20ea9d-db3b-45cd-df82-c283ea4e70b9",
        "colab": {
          "base_uri": "https://localhost:8080/"
        }
      },
      "source": [
        "print(B) # Let's just remember what B was."
      ],
      "execution_count": null,
      "outputs": [
        {
          "output_type": "stream",
          "name": "stdout",
          "text": [
            "[[ 0  1  2  3  4  5  6  7  8  9 10 11 12 13 14 15 16 17 18 19]\n",
            " [20 21 22 23 24 25 26 27 28 29 30 31 32 33 34 35 36 37 38 39]\n",
            " [40 41 42 43 44 45 46 47 48 49 50 51 52 53 54 55 56 57 58 59]\n",
            " [60 61 62 63 64 65 66 67 68 69 70 71 72 73 74 75 76 77 78 79]\n",
            " [80 81 82 83 84 85 86 87 88 89 90 91 92 93 94 95 96 97 98 99]]\n"
          ]
        }
      ]
    },
    {
      "cell_type": "code",
      "metadata": {
        "id": "Aoja1sXKG50Q",
        "outputId": "226b4516-907a-4890-b92b-a2889c702f30",
        "colab": {
          "base_uri": "https://localhost:8080/"
        }
      },
      "source": [
        "np.sum(B) # Add up all the terms of B, i.e., 0+1+2+...+99"
      ],
      "execution_count": null,
      "outputs": [
        {
          "output_type": "execute_result",
          "data": {
            "text/plain": [
              "4950"
            ]
          },
          "metadata": {},
          "execution_count": 51
        }
      ]
    },
    {
      "cell_type": "code",
      "metadata": {
        "id": "l7CYab5UG50R",
        "outputId": "f3a46bb5-d7dc-4cf3-f1a5-1c6edf156bfd",
        "colab": {
          "base_uri": "https://localhost:8080/"
        }
      },
      "source": [
        "print(np.sum(B, axis=0))  # Try this... what does the result mean?"
      ],
      "execution_count": null,
      "outputs": [
        {
          "output_type": "stream",
          "name": "stdout",
          "text": [
            "[200 205 210 215 220 225 230 235 240 245 250 255 260 265 270 275 280 285\n",
            " 290 295]\n"
          ]
        }
      ]
    },
    {
      "cell_type": "code",
      "metadata": {
        "id": "zA7ectjuG50R",
        "outputId": "27fd4bbc-744a-4e1e-f574-07827408d368",
        "colab": {
          "base_uri": "https://localhost:8080/"
        }
      },
      "source": [
        "print(np.sum(B, axis=1))  # And what does this result mean?"
      ],
      "execution_count": null,
      "outputs": [
        {
          "output_type": "stream",
          "name": "stdout",
          "text": [
            "[ 190  590  990 1390 1790]\n"
          ]
        }
      ]
    },
    {
      "cell_type": "code",
      "metadata": {
        "id": "KA0hJhpIG50R"
      },
      "source": [
        "BigM = np.random.random((1000,1000)) # Just a little array of a million random numbers!"
      ],
      "execution_count": null,
      "outputs": []
    },
    {
      "cell_type": "code",
      "metadata": {
        "id": "DZK-7_MLG50R",
        "outputId": "e68c6b3a-69eb-4457-8dab-9f36fbebe2b0",
        "colab": {
          "base_uri": "https://localhost:8080/"
        }
      },
      "source": [
        "np.sum(BigM) # Let's just add up a million random numbers."
      ],
      "execution_count": null,
      "outputs": [
        {
          "output_type": "execute_result",
          "data": {
            "text/plain": [
              "500454.1409089964"
            ]
          },
          "metadata": {},
          "execution_count": 55
        }
      ]
    },
    {
      "cell_type": "code",
      "metadata": {
        "id": "e_4lIvN2G50R",
        "outputId": "d046dfbc-2370-42e7-9532-0a2947f5fb91",
        "colab": {
          "base_uri": "https://localhost:8080/"
        }
      },
      "source": [
        "%timeit BigM * BigM # Don't print this one."
      ],
      "execution_count": null,
      "outputs": [
        {
          "output_type": "stream",
          "name": "stdout",
          "text": [
            "991 µs ± 18.8 µs per loop (mean ± std. dev. of 7 runs, 1000 loops each)\n"
          ]
        }
      ]
    },
    {
      "cell_type": "code",
      "metadata": {
        "id": "rb4Vcs0BG50R",
        "outputId": "cfb4dfe8-bf37-4d32-bcf7-6d383cb11a04",
        "colab": {
          "base_uri": "https://localhost:8080/"
        }
      },
      "source": [
        "%timeit np.sum(BigM)"
      ],
      "execution_count": null,
      "outputs": [
        {
          "output_type": "stream",
          "name": "stdout",
          "text": [
            "582 µs ± 143 µs per loop (mean ± std. dev. of 7 runs, 1000 loops each)\n"
          ]
        }
      ]
    },
    {
      "cell_type": "code",
      "metadata": {
        "id": "uT6MpLFuG50R",
        "outputId": "25d8df29-d8cb-4864-f9af-a1c72e0bcf47",
        "colab": {
          "base_uri": "https://localhost:8080/"
        }
      },
      "source": [
        "%timeit np.sum(BigM, axis=0)"
      ],
      "execution_count": null,
      "outputs": [
        {
          "output_type": "stream",
          "name": "stdout",
          "text": [
            "419 µs ± 7.1 µs per loop (mean ± std. dev. of 7 runs, 1000 loops each)\n"
          ]
        }
      ]
    },
    {
      "cell_type": "markdown",
      "metadata": {
        "id": "i1bfbkmXG50R"
      },
      "source": [
        "The speed of NumPy can be *startling*.  I mean, really really fast.  Really.  Note that a blink of the eye takes about 400 ms.  And there are 1000 µs (microseconds) in 1 ms (millisecond)."
      ]
    },
    {
      "cell_type": "markdown",
      "metadata": {
        "id": "kcpLRWMxG50R"
      },
      "source": [
        "### Matrix multiplication\n",
        "\n",
        "One of the most important computations in linear algebra is matrix multiplication.  If $M$ and $N$ are two matrices, and the number of columns of $M$ equals the number of rows of $N$, then it's possible to multiply $M$ and $N$ to obtain a matrix product.  \n",
        "\n",
        "Explicitly, if $P = M \\cdot N$ is a matrix product, then the entries of $P$ are given by the formula,\n",
        "$$P_{ij} = \\sum_k M_{ik} N_{kj}.$$\n",
        "Here, notation like $M_{ik}$ stands for the entry of $M$ at row $i$ and column $k$.\n",
        "\n",
        "Let's begin by doing this *explicitly* for NumPy matrices."
      ]
    },
    {
      "cell_type": "code",
      "metadata": {
        "id": "YEd7lOvOG50S"
      },
      "source": [
        "def matrix_mult(M,N):\n",
        "    '''\n",
        "    A function to multiply two NumPy matrices.\n",
        "    This is a bit more verbose than necessary, to improve clarity.\n",
        "    '''\n",
        "    Mrows = M.shape[0] # The number of rows of M\n",
        "    Mcols = M.shape[1] # The number of columns of M.\n",
        "    Nrows = N.shape[0] # The number of rows of N.\n",
        "    Ncols = N.shape[1] # The number of columns of N.\n",
        "    if Mcols != Nrows:\n",
        "        raise ValueError('The number of columns and rows do not match.')\n",
        "    P = np.zeros((Mrows,Ncols)) # Initialize the product matrix to all zeros, the right shape.\n",
        "    Prows = Mrows\n",
        "    Pcols = Ncols\n",
        "    for i in range(Prows):\n",
        "        for j in range(Pcols):\n",
        "            # Now we are going to compute P_ij, the entry at row i and column j in the product matrix.\n",
        "            # This is the sum in the above formula.  We set the running total to zero.\n",
        "            S = 0\n",
        "            for k in range(Mcols):\n",
        "                S = S + M[i,k]*N[k,j] # Compare to the formula above!\n",
        "            P[i,j] = S\n",
        "    return P"
      ],
      "execution_count": null,
      "outputs": []
    },
    {
      "cell_type": "code",
      "metadata": {
        "id": "GR9hWyiyG50S",
        "outputId": "e0137a98-1e10-43ad-c47b-01d14b61a0ea",
        "colab": {
          "base_uri": "https://localhost:8080/"
        }
      },
      "source": [
        "A = np.array([[1,2,3],[4,5,6]])\n",
        "print(A)\n",
        "B = np.array([[1,2],[3,4],[5,6]])\n",
        "print(B)"
      ],
      "execution_count": null,
      "outputs": [
        {
          "output_type": "stream",
          "name": "stdout",
          "text": [
            "[[1 2 3]\n",
            " [4 5 6]]\n",
            "[[1 2]\n",
            " [3 4]\n",
            " [5 6]]\n"
          ]
        }
      ]
    },
    {
      "cell_type": "code",
      "metadata": {
        "id": "2M94QvgJG50S",
        "outputId": "35268006-1921-4f1e-af3b-5b4ca69c3443",
        "colab": {
          "base_uri": "https://localhost:8080/"
        }
      },
      "source": [
        "print(matrix_mult(A,B)) # Will it work?  Can you predict the shape of the result?"
      ],
      "execution_count": null,
      "outputs": [
        {
          "output_type": "stream",
          "name": "stdout",
          "text": [
            "[[22. 28.]\n",
            " [49. 64.]]\n"
          ]
        }
      ]
    },
    {
      "cell_type": "markdown",
      "metadata": {
        "id": "mnKarXi6G50S"
      },
      "source": [
        "It's good to study the code above, to understand how it connects to the definition of matrix multiplication.  But since matrix multiplication comes up so often, the designers of NumPy have implemented a highly optimized version.  This is called `dot`."
      ]
    },
    {
      "cell_type": "code",
      "metadata": {
        "scrolled": true,
        "id": "4zdwlNcWG50S"
      },
      "source": [
        "print(np.dot(A,B))"
      ],
      "execution_count": null,
      "outputs": []
    },
    {
      "cell_type": "code",
      "metadata": {
        "id": "e7YswFH_G50S"
      },
      "source": [
        "%timeit matrix_mult(A,B)"
      ],
      "execution_count": null,
      "outputs": []
    },
    {
      "cell_type": "code",
      "metadata": {
        "id": "MUCdKFu_G50S"
      },
      "source": [
        "%timeit np.dot(A,B)"
      ],
      "execution_count": null,
      "outputs": []
    },
    {
      "cell_type": "markdown",
      "metadata": {
        "id": "LGXK_6lbG50S"
      },
      "source": [
        "Let's see how the speedup works for bigger matrices... like 100 by 100 matrices with 10000 random floats in each!"
      ]
    },
    {
      "cell_type": "code",
      "metadata": {
        "id": "noU2afJQG50S"
      },
      "source": [
        "A = np.random.random((100,100))\n",
        "B = np.random.random((100,100))"
      ],
      "execution_count": null,
      "outputs": []
    },
    {
      "cell_type": "code",
      "metadata": {
        "id": "uazliR6fG50S"
      },
      "source": [
        "%timeit matrix_mult(A,B)"
      ],
      "execution_count": null,
      "outputs": []
    },
    {
      "cell_type": "code",
      "metadata": {
        "id": "ulJhtxxaG50T"
      },
      "source": [
        "%timeit np.dot(A,B) # How about that for a speedup!!"
      ],
      "execution_count": null,
      "outputs": []
    },
    {
      "cell_type": "markdown",
      "metadata": {
        "id": "Fdj-r-0OG50T"
      },
      "source": [
        "Check the units... how much faster does np.dot run than our basic Python loop implementation?"
      ]
    },
    {
      "cell_type": "markdown",
      "metadata": {
        "id": "fx0ECqIxG50T"
      },
      "source": [
        "### Exercises\n",
        "\n",
        "1.  Put the list of numbers `[1,...,12]` into all possible shapes of 2-dimensional, and 3-dimensional numpy arrays, using the reshape command.  Print the results.  Only try the shapes where all dimensions are greater than one (i.e., don't make a 1 by 12 array).\n",
        "\n",
        "2.  Make a square array containing the numbers `[0,...,99]`.  Use list-slicing syntax to reverse the row-order of this array.  Use list-slicing syntax to *transpose* this array (reflect it across the diagonal of the original).\n",
        "\n",
        "3.  If you roll ten fair 6-sided dice, you expect the total to be 35, on average.  The minimum total would be 10 and the maximum would be 60.  Use numpy to create a array with 50 rows and 10 columns of random dice rolls (random integers between 1 and 6).  By summing rows, create an array of numbers between 10 and 60.  What is the average of this array (a number between 10 and 60)?  What is the standard deviation of this array?  (Use the `np.std` function for standard deviation.)  Use numpy functions throughout -- no loops please!  \n",
        "\n",
        "4.  Define a function `matrix_pow(M,e)` which takes as input a *square* matrix `M` and a natural number `e`.  The output should be the result of matrix multiplication, with `M` multiplied by itself `e` times.  When `e` is zero, the function should output the identity matrix `np.eye(s)` where `s` is the number of rows (or columns) of `M`.\n",
        "\n",
        "5.  The matrix exponential is defined by the same Taylor series as the usual exponential function, but one allows square matrices as inputs instead of just numbers.  Define a function `matrix_exp(M)` which computes the matrix exponential of `M` using the first 20 terms of the (familiar) series, and uses the `matrix_pow` function from the previous question."
      ]
    },
    {
      "cell_type": "markdown",
      "source": [
        "Ex1."
      ],
      "metadata": {
        "id": "7dA7IOo5RM-l"
      }
    },
    {
      "cell_type": "code",
      "source": [
        "N = np.array([1, 2, 3, 4, 5, 6, 7, 8, 9, 10, 11, 12])\n",
        "\n",
        "for i in range(2, 7):\n",
        "    if 12 % i == 0 and 12 // i > 1:\n",
        "        print(f\"{i} x {12//i} array:\")\n",
        "        print(N.reshape((i, 12//i)))\n",
        "        print()\n",
        "\n",
        "for i in range(2, 5):\n",
        "    if 12 % i == 0 and 12 // i > 1:\n",
        "        for j in range(2, 7):\n",
        "            if (12 // i) % j == 0 and (12 // (i*j)) > 1:\n",
        "                print(f\"{i} x {j} x {12//(i*j)} array:\")\n",
        "                print(N.reshape((i, j, 12//(i*j))))\n",
        "                print()"
      ],
      "metadata": {
        "id": "2gCN4jImRNx7",
        "outputId": "d0efbdae-1eff-4ef1-e8c6-fb055dd5794c",
        "colab": {
          "base_uri": "https://localhost:8080/"
        }
      },
      "execution_count": null,
      "outputs": [
        {
          "output_type": "stream",
          "name": "stdout",
          "text": [
            "2 x 6 array:\n",
            "[[ 1  2  3  4  5  6]\n",
            " [ 7  8  9 10 11 12]]\n",
            "\n",
            "3 x 4 array:\n",
            "[[ 1  2  3  4]\n",
            " [ 5  6  7  8]\n",
            " [ 9 10 11 12]]\n",
            "\n",
            "4 x 3 array:\n",
            "[[ 1  2  3]\n",
            " [ 4  5  6]\n",
            " [ 7  8  9]\n",
            " [10 11 12]]\n",
            "\n",
            "6 x 2 array:\n",
            "[[ 1  2]\n",
            " [ 3  4]\n",
            " [ 5  6]\n",
            " [ 7  8]\n",
            " [ 9 10]\n",
            " [11 12]]\n",
            "\n",
            "2 x 2 x 3 array:\n",
            "[[[ 1  2  3]\n",
            "  [ 4  5  6]]\n",
            "\n",
            " [[ 7  8  9]\n",
            "  [10 11 12]]]\n",
            "\n",
            "2 x 3 x 2 array:\n",
            "[[[ 1  2]\n",
            "  [ 3  4]\n",
            "  [ 5  6]]\n",
            "\n",
            " [[ 7  8]\n",
            "  [ 9 10]\n",
            "  [11 12]]]\n",
            "\n",
            "3 x 2 x 2 array:\n",
            "[[[ 1  2]\n",
            "  [ 3  4]]\n",
            "\n",
            " [[ 5  6]\n",
            "  [ 7  8]]\n",
            "\n",
            " [[ 9 10]\n",
            "  [11 12]]]\n",
            "\n"
          ]
        }
      ]
    },
    {
      "cell_type": "markdown",
      "source": [
        "Ex2.\n"
      ],
      "metadata": {
        "id": "a14jy-gEdQWj"
      }
    },
    {
      "cell_type": "code",
      "source": [
        "arr = np.arange(100).reshape((10,10))\n",
        "arr_reverse = arr[::-1,:]\n",
        "arr_transpose = np.zeros((10,10),dtype=int)\n",
        "for i in range(10):\n",
        "    for j in range(10):\n",
        "        arr_transpose[i,j]=int(arr[j][i])\n",
        "\n",
        "print(arr_transpose)"
      ],
      "metadata": {
        "id": "LwbzvkJUdRJx",
        "outputId": "cb20108f-1bd2-4d3e-a0e3-9fe5cf361936",
        "colab": {
          "base_uri": "https://localhost:8080/"
        }
      },
      "execution_count": null,
      "outputs": [
        {
          "output_type": "stream",
          "name": "stdout",
          "text": [
            "[[ 0 10 20 30 40 50 60 70 80 90]\n",
            " [ 1 11 21 31 41 51 61 71 81 91]\n",
            " [ 2 12 22 32 42 52 62 72 82 92]\n",
            " [ 3 13 23 33 43 53 63 73 83 93]\n",
            " [ 4 14 24 34 44 54 64 74 84 94]\n",
            " [ 5 15 25 35 45 55 65 75 85 95]\n",
            " [ 6 16 26 36 46 56 66 76 86 96]\n",
            " [ 7 17 27 37 47 57 67 77 87 97]\n",
            " [ 8 18 28 38 48 58 68 78 88 98]\n",
            " [ 9 19 29 39 49 59 69 79 89 99]]\n"
          ]
        }
      ]
    },
    {
      "cell_type": "markdown",
      "source": [
        "Ex3.\n"
      ],
      "metadata": {
        "id": "Il4QQBldq7HO"
      }
    },
    {
      "cell_type": "code",
      "source": [
        "dice_rolls = np.random.randint(1, 7,(50, 10))\n",
        "totals = np.sum(dice_rolls, axis=1)\n",
        "mean = np.mean(totals)\n",
        "std_dev = np.std(totals)\n",
        "print(mean)\n",
        "print(std_dev)"
      ],
      "metadata": {
        "id": "oem5Y76XrLCb",
        "outputId": "f293e9c7-9ff7-49fd-843e-f996dba129c3",
        "colab": {
          "base_uri": "https://localhost:8080/"
        }
      },
      "execution_count": null,
      "outputs": [
        {
          "output_type": "stream",
          "name": "stdout",
          "text": [
            "34.88\n",
            "4.650333321386758\n"
          ]
        }
      ]
    },
    {
      "cell_type": "markdown",
      "source": [
        "Ex4."
      ],
      "metadata": {
        "id": "0ZwzaEHzrmwb"
      }
    },
    {
      "cell_type": "code",
      "source": [
        "def matrix_pow(M, e):\n",
        "    if e == 0:\n",
        "        return np.eye(M.shape[0])\n",
        "    elif e == 1:\n",
        "        return M\n",
        "    else:\n",
        "        result = M\n",
        "        for i in range(e-1):\n",
        "            result = np.dot(result, M)\n",
        "        return result"
      ],
      "metadata": {
        "id": "emWbNIbrrnpL"
      },
      "execution_count": null,
      "outputs": []
    },
    {
      "cell_type": "markdown",
      "source": [
        "Ex5."
      ],
      "metadata": {
        "id": "AHR2iUuYtzin"
      }
    },
    {
      "cell_type": "code",
      "source": [],
      "metadata": {
        "id": "D7UowfPwt0Wn"
      },
      "execution_count": null,
      "outputs": []
    },
    {
      "cell_type": "markdown",
      "metadata": {
        "id": "iQZKmbIbG50T"
      },
      "source": [
        "## Introduction to 2-dimensional graphics in Python\n",
        "\n",
        "The visualization of quantitative information is a huge field of study.  The now-classic book in the field is Edward Tufte's [The Visual Display of Quantitative Information](https://www.edwardtufte.com/tufte/books_vdqi), but you can find much earlier works by the best-named statistician [Playfair](https://en.wikipedia.org/wiki/William_Playfair) or the beautiful but vexing *Semiology of Graphics* by Jacques Bertin.\n",
        "\n",
        "In this notebook, we are going to introduce two tools for visualization.  The first is [matplotlib](https://matplotlib.org/), which has the same number of letters and syllables as [manbearpig](https://en.wikipedia.org/wiki/ManBearPig).  Matplotlib is an excellent tool for creating a huge number of \"standard\" graphs and charts.  It works very nicely in Jupyter notebooks, interfaces with numpy, and is very widely supported.\n",
        "\n",
        "The second tool is [Pillow](https://python-pillow.org/) which is the new and fluffy incarnation of PIL, the Python Imaging Library.  We will use Pillow for \"low-level\" 2-dimensional image manipulation.  Pillow is great when we want to create or modify an image pixel-by-pixel.  It's not so great if we just want to make a graph with some dots, lines, axes, and labels.  \n",
        "\n",
        "Other tools worth consideration are:  [SVGwrite](https://pypi.org/project/svgwrite/) for working with scalable vector graphics and [Bokeh](https://bokeh.pydata.org/en/latest/) for making very pretty interactive graphics on the web.  Also [Seaborn](https://seaborn.pydata.org/) for a visualization system based on matplotlib, but with more modern styling.  For producing print-ready graphics, I use a strange combination of Python and [TikZ/PGF](http://www.texample.net/tikz/examples/all/)."
      ]
    },
    {
      "cell_type": "markdown",
      "metadata": {
        "id": "cagHlDQrG50T"
      },
      "source": [
        "### Introduction to matplotlib\n",
        "\n",
        "Matplotlib can be used to make all sorts of graphs and charts from your data.  Often the best way to use matplotlib is to look at the [matplotlib gallery](https://matplotlib.org/gallery/index.html) and find an example as a starting point.  But it's difficult getting started with matplotlib unless you understand its basic framework.\n",
        "\n",
        "Here we limit ourselves to three fundamental types of visualization in matplotlib:  the [histogram](https://en.wikipedia.org/wiki/Histogram), the [line chart](https://en.wikipedia.org/wiki/Line_chart), and the [scatter plot](https://en.wikipedia.org/wiki/Scatter_plot).  To use matplotlib's plotting capabilities, we load the matplotlib.pyplot package as plt (just as we loaded numpy as np).  The pyplot part of matplotlib is meant to work like Matlab.  You can follow the [official pyplot tutorial](https://matplotlib.org/tutorials/introductory/pyplot.html) for more."
      ]
    },
    {
      "cell_type": "code",
      "metadata": {
        "id": "MdIVQTnAG50T"
      },
      "source": [
        "import matplotlib.pyplot as plt # Use plt.<command> hereafter."
      ],
      "execution_count": 2,
      "outputs": []
    },
    {
      "cell_type": "markdown",
      "metadata": {
        "id": "mC38n2P0G50T"
      },
      "source": [
        "### Scatter plots"
      ]
    },
    {
      "cell_type": "markdown",
      "metadata": {
        "id": "Yx12ZWTAG50T"
      },
      "source": [
        "The *scatter plot* might be the simplest sort of 2-dimensional data visualization.  If your data is a set of ordered pairs $(x,y)$ of numbers, then a scatter plot visualizes this data by putting a dot at every coordinate in the data.  Here is a minimalist example.  Note that the data is organized as *two separate arrays* -- one for the x-coordinates and the other for the y-coordinates.  "
      ]
    },
    {
      "cell_type": "code",
      "metadata": {
        "id": "WI5VgBdWG50U",
        "outputId": "a83ebec6-566c-45f8-b259-e3bb48278e6d",
        "colab": {
          "base_uri": "https://localhost:8080/"
        }
      },
      "source": [
        "xlist = np.random.randint(1,11,20) # A list of 20 random numbers between 1 and 10\n",
        "ylist = np.random.randint(1,11,20) # Another such list.\n",
        "print(xlist)\n",
        "print(ylist)"
      ],
      "execution_count": 10,
      "outputs": [
        {
          "output_type": "stream",
          "name": "stdout",
          "text": [
            "[ 6  4  7 10  6 10  1 10 10  7  4 10  2  8  9  8 10  5  7  1]\n",
            "[ 3  4  3 10  8  5  4  2  5  4  5  9  9  1  7  2  5 10  5  1]\n"
          ]
        }
      ]
    },
    {
      "cell_type": "markdown",
      "metadata": {
        "id": "whG9Jt6HG50U"
      },
      "source": [
        "We are going to use these numbers as the x-coordinates and y-coordinates for a series of dots.  A more explicit description is given by running the cell below.  (Also, a reminder of string formatting!)"
      ]
    },
    {
      "cell_type": "code",
      "metadata": {
        "id": "v99tzXdrG50U",
        "outputId": "15a51e61-3538-4b2b-fc47-94a3da107c6a",
        "colab": {
          "base_uri": "https://localhost:8080/"
        }
      },
      "source": [
        "for i in range(len(xlist)):\n",
        "    print(\"({}, {}) will be plotted\".format(xlist[i], ylist[i]))"
      ],
      "execution_count": 8,
      "outputs": [
        {
          "output_type": "stream",
          "name": "stdout",
          "text": [
            "(9, 1) will be plotted\n",
            "(7, 5) will be plotted\n",
            "(3, 4) will be plotted\n",
            "(8, 7) will be plotted\n",
            "(7, 5) will be plotted\n",
            "(6, 3) will be plotted\n",
            "(5, 7) will be plotted\n",
            "(9, 3) will be plotted\n",
            "(5, 8) will be plotted\n",
            "(3, 1) will be plotted\n",
            "(6, 6) will be plotted\n",
            "(2, 10) will be plotted\n",
            "(2, 8) will be plotted\n",
            "(2, 7) will be plotted\n",
            "(1, 5) will be plotted\n",
            "(8, 2) will be plotted\n",
            "(3, 4) will be plotted\n",
            "(8, 3) will be plotted\n",
            "(9, 10) will be plotted\n",
            "(9, 5) will be plotted\n"
          ]
        }
      ]
    },
    {
      "cell_type": "code",
      "metadata": {
        "id": "k5wOAKl1G50U",
        "outputId": "ec2df275-f6c6-401a-8b2e-5b3e4fe81659",
        "colab": {
          "base_uri": "https://localhost:8080/",
          "height": 282
        }
      },
      "source": [
        "plt.scatter(xlist, ylist) # A picture should pop up!  If it doesn't, please get help."
      ],
      "execution_count": 11,
      "outputs": [
        {
          "output_type": "execute_result",
          "data": {
            "text/plain": [
              "<matplotlib.collections.PathCollection at 0x7fab943ebaf0>"
            ]
          },
          "metadata": {},
          "execution_count": 11
        },
        {
          "output_type": "display_data",
          "data": {
            "text/plain": [
              "<Figure size 432x288 with 1 Axes>"
            ],
            "image/png": "[encoded data removed]"
          },
          "metadata": {
            "needs_background": "light"
          }
        }
      ]
    },
    {
      "cell_type": "code",
      "metadata": {
        "id": "oOrMfpS-G50U",
        "outputId": "1af6cc2a-ea0e-4762-bead-a2e3b08aafd1",
        "colab": {
          "base_uri": "https://localhost:8080/",
          "height": 282
        }
      },
      "source": [
        "xlist = np.random.random(500) # A list of 500 random floats between 0 and 1.\n",
        "ylist = np.random.random(500) # Another such list.\n",
        "plt.scatter(xlist, ylist)"
      ],
      "execution_count": 14,
      "outputs": [
        {
          "output_type": "execute_result",
          "data": {
            "text/plain": [
              "<matplotlib.collections.PathCollection at 0x7fab9431bc10>"
            ]
          },
          "metadata": {},
          "execution_count": 14
        },
        {
          "output_type": "display_data",
          "data": {
            "text/plain": [
              "<Figure size 432x288 with 1 Axes>"
            ],
            "image/png": "[encoded data removed]"
          },
          "metadata": {
            "needs_background": "light"
          }
        }
      ]
    },
    {
      "cell_type": "markdown",
      "metadata": {
        "id": "pyUGT7qFG50U"
      },
      "source": [
        "These examples are minimalist -- the quickest way to produce a plot, using all the matplotlib defaults.  Notice the axis ticks are automatically placed, the color of dots is an intelligent shade of blue, and the dots have a pleasing size and soft edge.  The single `plt.scatter(xlist, ylist)` created quite a complicated image from two lists of numbers.\n",
        "\n",
        "Behind the scenes, there is a lot going on!  In fact, the `plt.scatter` function activates the pyplot *state machine* and *changes its state*.  When the cell containing the `plt.scatter` function is finished with its execution, the figure is rendered as an image in your browser, and the *state machine* is closed down.  \n",
        "\n",
        "This \"state machine\" initializes a data structure, changes it according to `plt.<command>` functions, renders it to your browser, then disposes of the evidence.  Here is a more complicated example, which might be easier to decode."
      ]
    },
    {
      "cell_type": "code",
      "metadata": {
        "id": "jloINAG8G50U",
        "outputId": "de268f38-3e89-410b-b266-5b00c6da0a7a",
        "colab": {
          "base_uri": "https://localhost:8080/",
          "height": 404
        }
      },
      "source": [
        "xlist = np.random.random(500) # A list of 500 random floats between 0 and 1.\n",
        "ylist = np.random.random(500) # Another such list.\n",
        "\n",
        "plt.figure(figsize=(6,6))\n",
        "plt.scatter(xlist, ylist, alpha=0.5, c='gold', s=50)\n",
        "plt.xlabel('Age of banana slug (in days)')\n",
        "plt.ylabel('Taste of banana slug (1 = tastiest)')\n",
        "plt.title('Age vs taste of banana slugs')\n",
        "plt.show()"
      ],
      "execution_count": 15,
      "outputs": [
        {
          "output_type": "display_data",
          "data": {
            "text/plain": [
              "<Figure size 432x432 with 1 Axes>"
            ],
            "image/png": "[encoded data removed]"
          },
          "metadata": {
            "needs_background": "light"
          }
        }
      ]
    },
    {
      "cell_type": "markdown",
      "metadata": {
        "id": "GMjpmErvG50U"
      },
      "source": [
        "We're going to go through the whole figure-creation and display, line by line.  There's a lot going on!\n",
        "\n",
        "1.  `plt.figure(figsize=(6,6))` starts the pyplot \"state machine\" by initializing a figure which is 6 inches by 6 inches in size.  The size on your screen may appear different, because your browser is smart.  If you want to manually set the figure size, you should do this before everything else.  All other `plt` commands in the cell will operate on this figure (the \"state\" of the \"state machine\").  Here is the basic [anatomy of a matplotlib figure](https://matplotlib.org/tutorials/introductory/usage.html)... it's quite complicated!\n",
        "\n",
        "2.  `plt.scatter(xlist, ylist, alpha=0.5, c='gold', s=50)`.  This uses pyplot's built-in scatter-plot-maker.  The xlist and ylist are the lists of x-coordinates and y-coordinates... the data which is being plotted.  The `alpha` parameter sets the transparency of the dots, which is very important when there are overlaps!  An alpha value of 1 yields completely opaque dots.  The `c` parameter sets the color of the dots.  Here the dot color is set to `gold`.  Here is a [list of named colors](https://matplotlib.org/examples/color/named_colors.html).  More fun than crayons!  The `s` parameter sets the size of the dots, measured by area.  Here is the [complete list of parameters](https://matplotlib.org/api/_as_gen/matplotlib.pyplot.scatter.html) that can be passed to the `plt.scatter` function.\n",
        "\n",
        "3.  `plt.xlabel('Age of banana slug (in days)')`.  This sets the label on the x-axis of the active figure.\n",
        "\n",
        "4.  `plt.ylabel('Taste of banana slug (1 = tastiest)')`.  This sets the label on the y-axis of the active figure.\n",
        "\n",
        "5.  `plt.title('Age vs taste of banana slugs')`.  This sets the title of the active figure.\n",
        "\n",
        "6.  `plt.show()`.  Not strictly necessary, but a good habit.  This shows the plot.  After the cell is run, the \"state machine\" is effectively turned off and forgotten.  `plt` commands in later cells will not be able to change the plot you've created.\n",
        "\n",
        "You might wish to change some of the parameters in the above figure, and re-run the cell, to see the effect."
      ]
    },
    {
      "cell_type": "code",
      "metadata": {
        "id": "qJ47fta6G50U",
        "outputId": "ce1b9033-d8ca-408e-de70-3dcc70d0aab4",
        "colab": {
          "base_uri": "https://localhost:8080/",
          "height": 300
        }
      },
      "source": [
        "plt.xlabel('Can I change the label?')"
      ],
      "execution_count": 16,
      "outputs": [
        {
          "output_type": "execute_result",
          "data": {
            "text/plain": [
              "Text(0.5, 0, 'Can I change the label?')"
            ]
          },
          "metadata": {},
          "execution_count": 16
        },
        {
          "output_type": "display_data",
          "data": {
            "text/plain": [
              "<Figure size 432x288 with 1 Axes>"
            ],
            "image/png": "[encoded data removed]"
          },
          "metadata": {
            "needs_background": "light"
          }
        }
      ]
    },
    {
      "cell_type": "markdown",
      "metadata": {
        "id": "-iXNZr6nG50U"
      },
      "source": [
        "When the banana-slug cell was executed, its state machine was turned off.  So if you try to make a change in a new cell with `plt.xlabel('...')`, you will end up *restarting* the state-machine in a mostly empty state, and then setting the xlabel of this new figure.  When you run the new cell, the figure is displayed, with your new label, and that state machine is terminated."
      ]
    },
    {
      "cell_type": "markdown",
      "metadata": {
        "id": "kN8n7rzxG50V"
      },
      "source": [
        "Now we will make a scatterplot using the sine function.  Along the way, we use the numpy `arange` function.  The function `np.arange(a,b,s)` generates a numpy array which starts at `a` and ends *before* `b` and uses a step-size of `s`.  It's a lot like a range command, but... note that the `arange` function *does* put all the numbers into memory.  So beware and do not try to store a trillion numbers in your computer memory!"
      ]
    },
    {
      "cell_type": "code",
      "metadata": {
        "id": "l2xpLSqpG50V",
        "outputId": "a393f30f-dce9-4fb9-cbdc-9b6961782a94",
        "colab": {
          "base_uri": "https://localhost:8080/"
        }
      },
      "source": [
        "print(np.arange(0,10,1)) # Looks familiar?"
      ],
      "execution_count": 17,
      "outputs": [
        {
          "output_type": "stream",
          "name": "stdout",
          "text": [
            "[0 1 2 3 4 5 6 7 8 9]\n"
          ]
        }
      ]
    },
    {
      "cell_type": "code",
      "metadata": {
        "id": "lDxnZs3FG50V",
        "outputId": "6d67227e-b134-4ab3-ca55-f4f70e3bdd87",
        "colab": {
          "base_uri": "https://localhost:8080/"
        }
      },
      "source": [
        "print(np.arange(0,5,0.3)) # A bit more flexible."
      ],
      "execution_count": 18,
      "outputs": [
        {
          "output_type": "stream",
          "name": "stdout",
          "text": [
            "[0.  0.3 0.6 0.9 1.2 1.5 1.8 2.1 2.4 2.7 3.  3.3 3.6 3.9 4.2 4.5 4.8]\n"
          ]
        }
      ]
    },
    {
      "cell_type": "code",
      "metadata": {
        "id": "uBcK29uqG50V",
        "outputId": "672057cc-50f6-44fe-862b-75288aef9dbc",
        "colab": {
          "base_uri": "https://localhost:8080/",
          "height": 169
        }
      },
      "source": [
        "range(0,5,0.3) # The range command does not play nicely with floats."
      ],
      "execution_count": 19,
      "outputs": [
        {
          "output_type": "error",
          "ename": "TypeError",
          "evalue": "ignored",
          "traceback": [
            "\u001b[0;31m---------------------------------------------------------------------------\u001b[0m",
            "\u001b[0;31mTypeError\u001b[0m                                 Traceback (most recent call last)",
            "\u001b[0;32m<ipython-input-19-975c6898fb50>\u001b[0m in \u001b[0;36m<module>\u001b[0;34m\u001b[0m\n\u001b[0;32m----> 1\u001b[0;31m \u001b[0mrange\u001b[0m\u001b[0;34m(\u001b[0m\u001b[0;36m0\u001b[0m\u001b[0;34m,\u001b[0m\u001b[0;36m5\u001b[0m\u001b[0;34m,\u001b[0m\u001b[0;36m0.3\u001b[0m\u001b[0;34m)\u001b[0m \u001b[0;31m# The range command does not play nicely with floats.\u001b[0m\u001b[0;34m\u001b[0m\u001b[0;34m\u001b[0m\u001b[0m\n\u001b[0m",
            "\u001b[0;31mTypeError\u001b[0m: 'float' object cannot be interpreted as an integer"
          ]
        }
      ]
    },
    {
      "cell_type": "code",
      "metadata": {
        "id": "s5rb1SR5G50V"
      },
      "source": [
        "xlist = np.arange(0, 10,0.1) # The list 0,0.1, 0.2, 0.3, etc. up to 9.9.\n",
        "sinlist = np.sin(xlist) # apply the sine function to each item in the list, via broadcasting.\n",
        "coslist = np.cos(xlist)"
      ],
      "execution_count": 20,
      "outputs": []
    },
    {
      "cell_type": "code",
      "metadata": {
        "id": "-un5urMfG50V",
        "outputId": "0851a7ff-84e4-4d41-e00a-529a45761cc5",
        "colab": {
          "base_uri": "https://localhost:8080/",
          "height": 350
        }
      },
      "source": [
        "plt.figure(figsize=(15,5))\n",
        "plt.scatter(xlist, sinlist, alpha=0.5, c='blue', marker='x') # See the marker?\n",
        "plt.scatter(xlist, coslist, alpha=0.5, c='red', marker='o') # Multiple plots, no problem!\n",
        "plt.grid() # A grid might help.\n",
        "plt.xlabel('Time (in seconds)')\n",
        "plt.ylabel('Height of ball on spring (in cm)')\n",
        "plt.title('Observed trajectory of balls on spring')\n",
        "plt.show()"
      ],
      "execution_count": 21,
      "outputs": [
        {
          "output_type": "display_data",
          "data": {
            "text/plain": [
              "<Figure size 1080x360 with 1 Axes>"
            ],
            "image/png": "[encoded data removed]"
          },
          "metadata": {
            "needs_background": "light"
          }
        }
      ]
    },
    {
      "cell_type": "markdown",
      "metadata": {
        "id": "P9QotgZyG50V"
      },
      "source": [
        "### Line plots in matplotlib\n",
        "\n",
        "The previous example contains plots of the sine and cosine functions.  It is a bit unusual to plot functions with scatterplots; one would typically use a plot that \"connects the dots\" to reflect the continuity of the functions. While `plt.scatter` produces a scatter-plot, the simply-named `plt.plot` command produces a plot that connects the dots.   "
      ]
    },
    {
      "cell_type": "code",
      "metadata": {
        "id": "tC4B89EhG50V",
        "outputId": "56cd3edc-f6f6-4a5d-d46e-cbedbfe536af",
        "colab": {
          "base_uri": "https://localhost:8080/",
          "height": 352
        }
      },
      "source": [
        "plt.figure(figsize=(15,5))\n",
        "plt.plot(xlist, sinlist, alpha=0.5, c='blue') \n",
        "plt.plot(xlist, coslist, alpha=0.5, c='red') # Multiple plots, no problem!\n",
        "plt.grid() # A grid might help.\n",
        "plt.xlabel('$x$') # Notice the dollar signs... matplotlib understands basic LaTeX in text!\n",
        "plt.ylabel('$y$')\n",
        "plt.title('Graphs of $y = \\sin(x)$ and $y = \\cos(x)$')\n",
        "plt.show()"
      ],
      "execution_count": 22,
      "outputs": [
        {
          "output_type": "display_data",
          "data": {
            "text/plain": [
              "<Figure size 1080x360 with 1 Axes>"
            ],
            "image/png": "[encoded data removed]"
          },
          "metadata": {
            "needs_background": "light"
          }
        }
      ]
    },
    {
      "cell_type": "markdown",
      "metadata": {
        "id": "7IFx8KA_G50V"
      },
      "source": [
        "Like everything with matplotlib, there are zillions of possible adjustments and additions one can make to this plot.  Here we just mention two.\n",
        "\n",
        "1.  Changing the axis ticks to be more relevant.\n",
        "2.  A *legend* that is advisable when plotting multiple functions."
      ]
    },
    {
      "cell_type": "code",
      "metadata": {
        "id": "U3W2o0H5G50V",
        "outputId": "c9945e99-b9b7-497a-e144-8aee8714f220",
        "colab": {
          "base_uri": "https://localhost:8080/",
          "height": 352
        }
      },
      "source": [
        "plt.figure(figsize=(15,5))\n",
        "plt.plot(xlist, sinlist, alpha=0.5, c='blue', label='$y=\\sin(x)$') # label for the legend.\n",
        "plt.plot(xlist, coslist, alpha=0.5, c='red', label='$y=\\cos(x)$') # label for the legend.\n",
        "plt.xticks(np.arange(0,10,np.pi/2)) # x-axis ticks (gridlines) are at multiples of pi/2.\n",
        "plt.grid() # A grid might help.\n",
        "plt.xlabel('$x$') # Notice the dollar signs... matplotlib understands basic LaTeX in text!\n",
        "plt.ylabel('$y$')\n",
        "plt.title('Graphs of $y = \\sin(x)$ and $y = \\cos(x)$')\n",
        "plt.legend() # Insert the legend, based on the plot labels.\n",
        "plt.show()"
      ],
      "execution_count": 23,
      "outputs": [
        {
          "output_type": "display_data",
          "data": {
            "text/plain": [
              "<Figure size 1080x360 with 1 Axes>"
            ],
            "image/png": "[encoded data removed]"
          },
          "metadata": {
            "needs_background": "light"
          }
        }
      ]
    },
    {
      "cell_type": "markdown",
      "metadata": {
        "id": "Sfse_MuRG50W"
      },
      "source": [
        "Note the x-ticks are at $0$, $\\pi/2$, $\\pi$, $3 \\pi / 2$, etc..  But they are labeled by floating point values.  We can fix this by making custom labels.  We store the x-tick locations in a numpy array `pimult` and the x-tick labels in another numpy array (of strings) `xlabels`.  It's a bit tedious, but the result will look nice.  Note that matplotlib will process the basic LaTeX that we use in the labels."
      ]
    },
    {
      "cell_type": "code",
      "metadata": {
        "id": "OIW7QynZG50W"
      },
      "source": [
        "pimult = np.arange(0,10,np.pi / 2) # The list of locations of the x-ticks.\n",
        "xlabels = np.array(['0', '$\\pi/2$', '$\\pi$', '$3 \\pi / 2$', '$2 \\pi$', '$5 \\pi / 2$', '$3 \\pi$'])"
      ],
      "execution_count": 24,
      "outputs": []
    },
    {
      "cell_type": "code",
      "metadata": {
        "id": "8a9Qm7iyG50W",
        "outputId": "e358b0fb-82b3-4959-e722-dd23e29b4d41",
        "colab": {
          "base_uri": "https://localhost:8080/",
          "height": 355
        }
      },
      "source": [
        "plt.figure(figsize=(15,5))\n",
        "plt.plot(xlist, sinlist, alpha=0.5, c='blue', label='$y=\\sin(x)$') # label for the legend.\n",
        "plt.plot(xlist, coslist, alpha=0.5, c='red', label='$y=\\cos(x)$') # label for the legend.\n",
        "plt.xticks(pimult, xlabels) # x-axis ticks and labels.\n",
        "plt.grid() # A grid might help.\n",
        "plt.xlabel('$x$') # Notice the dollar signs... matplotlib understands basic LaTeX in text!\n",
        "plt.ylabel('$y$')\n",
        "plt.title('Graphs of $y = \\sin(x)$ and $y = \\cos(x)$')\n",
        "plt.legend() # Insert the legend, based on the plot labels.\n",
        "plt.show()"
      ],
      "execution_count": 25,
      "outputs": [
        {
          "output_type": "display_data",
          "data": {
            "text/plain": [
              "<Figure size 1080x360 with 1 Axes>"
            ],
            "image/png": "[encoded data removed]"
          },
          "metadata": {
            "needs_background": "light"
          }
        }
      ]
    },
    {
      "cell_type": "markdown",
      "metadata": {
        "id": "m5zcUpMNG50W"
      },
      "source": [
        "For plotting functions, there are many tools out there.  One can use [Desmos](https://www.desmos.com/), for example, or Excel, or *Grapher* (preinstalled on every Apple computer).  But the line plotting in matplotlib is more flexible than most.  For example, let's plot a \"random walk\"."
      ]
    },
    {
      "cell_type": "code",
      "metadata": {
        "id": "qpLTZgXeG50W"
      },
      "source": [
        "xlist = np.zeros(100) # Initialize arrays of zeros.\n",
        "ylist = np.zeros(100) \n",
        "x,y = 0,0 # We start at (0,0).\n",
        "for t in range(100):  # t will be the \"time\" parameter for the walk.\n",
        "    xlist[t] = x\n",
        "    ylist[t] = y\n",
        "    x += np.random.random()-0.5 # Add a random number between -0.5 and 0.5 to x.\n",
        "    y += np.random.random()-0.5 # Add a random number between -0.5 and 0.5 to x."
      ],
      "execution_count": 32,
      "outputs": []
    },
    {
      "cell_type": "markdown",
      "metadata": {
        "id": "x7XGaj-mG50W"
      },
      "source": [
        "Note that we began by initializing xlist and ylist to an array of zeros, and *not* an empty array.  We did *not* begin with `xlist = np.array([])` and then append new x-values.  There's an important reason for this, having to do with the optimization of NumPy.  \n",
        "\n",
        "When NumPy stores an array, it finds a block of *consecutive* memory slots for the array values.  So if you start with an array of 100 zeros (as float64s), NumPy will find 6400 consecutive bits of memory in your computer, and set them to represent 100 consecutive zeros (each stored in a 64-bit clump).  \n",
        "\n",
        "If you *append* to a NumPy array, NumPy will be annoyed.  NumPy has already found a perfectly-sized block of memory for your data, and now you are asking NumPy to fit more data in the block.  So NumPy will go out and hunt for a new perfectly-sized block of memory to fit your data... every single time you append.  This will waste resources and make NumPy sad.\n",
        "\n",
        "On the other hand, NumPy will be perfectly happy to *change* the bits of memory that it has allocated.  So starting with all zeros, and changing those zeros to other 64-bit numbers, will keep NumPy HapPy."
      ]
    },
    {
      "cell_type": "code",
      "metadata": {
        "id": "gVV09TBKG50W",
        "outputId": "e6a05194-b234-4456-8ca6-47b0a5955be3",
        "colab": {
          "base_uri": "https://localhost:8080/",
          "height": 350
        }
      },
      "source": [
        "plt.figure(figsize=(5,5))\n",
        "plt.plot(xlist, ylist, alpha=1, c='blue') # label for the legend.\n",
        "plt.grid() # A grid might help.\n",
        "plt.xlabel('$x$') # Notice the dollar signs... matplotlib understands basic LaTeX in text!\n",
        "plt.ylabel('$y$')\n",
        "plt.title('A random walk in 2 dimensions')\n",
        "plt.show()"
      ],
      "execution_count": 34,
      "outputs": [
        {
          "output_type": "display_data",
          "data": {
            "text/plain": [
              "<Figure size 360x360 with 1 Axes>"
            ],
            "image/png": "[encoded data removed]"
          },
          "metadata": {
            "needs_background": "light"
          }
        }
      ]
    },
    {
      "cell_type": "markdown",
      "metadata": {
        "id": "RWyw7DBkG50W"
      },
      "source": [
        "### Histograms in matplotlib\n",
        "\n",
        "A *histogram* is most frequently used to display the *distribution* of a single numerical variable.  In other words, if one has a big *set* of numbers, a histogram is used to display how these numbers are distributed:  are they clumped near a \"center\" or are they \"multimodal\" (having multiple \"centers\")?  Are they \"uniformly distributed\" within a range?  How much \"noise\" is present?  \n",
        "\n",
        "To understand histograms, we begin with a set of numbers, represented in a numpy array.  \n",
        "Read the [full histogram documentation](https://matplotlib.org/api/_as_gen/matplotlib.pyplot.hist.html) for more!"
      ]
    },
    {
      "cell_type": "code",
      "metadata": {
        "id": "wCVGbl67G50W"
      },
      "source": [
        "A = np.random.random(100) # A list of 100 random numbers between 0 and 1."
      ],
      "execution_count": 35,
      "outputs": []
    },
    {
      "cell_type": "markdown",
      "metadata": {
        "id": "1nwi9NySG50W"
      },
      "source": [
        "The following code is a minimalist sort of histogram."
      ]
    },
    {
      "cell_type": "code",
      "metadata": {
        "id": "X676TbLCG50X",
        "outputId": "4bdf8b30-ca4c-43bf-96a5-c25422c34582",
        "colab": {
          "base_uri": "https://localhost:8080/",
          "height": 336
        }
      },
      "source": [
        "plt.figure(figsize=(5,5))\n",
        "plt.hist(A, bins=10) # Divide the range of numbers into 10 \"bins\".\n",
        "plt.grid()\n",
        "plt.title(\"Histogram of 100 random numbers between 0.0 and 1.0\")\n",
        "plt.show()"
      ],
      "execution_count": 43,
      "outputs": [
        {
          "output_type": "display_data",
          "data": {
            "text/plain": [
              "<Figure size 360x360 with 1 Axes>"
            ],
            "image/png": "[encoded data removed]"
          },
          "metadata": {
            "needs_background": "light"
          }
        }
      ]
    },
    {
      "cell_type": "markdown",
      "metadata": {
        "id": "sf4VZrRYG50X"
      },
      "source": [
        "The new ingredient here is the `plt.hist(A, bins=10)` command.  This carries out the following steps.\n",
        "\n",
        "1.  It identifies the smallest value of the array `A` and the largest value of the array `A`, and subdivides the space between this min and max into 10 \"bins\".\n",
        "\n",
        "2.  It counts the number of values within each bin.\n",
        "\n",
        "3.  It draws a bar for each bin, whose height is the number of values within each bin.\n",
        "\n",
        "For histogram, the automatic layout is often difficult to read.  We can choose the bins manually, and add xticks and yticks, to display the information more clearly.  We are going to use the `np.linspace` command, explained just below."
      ]
    },
    {
      "cell_type": "code",
      "metadata": {
        "id": "zlnwf2N4G50X",
        "outputId": "79516d97-53b8-4a4d-fae4-409f627d44e9",
        "colab": {
          "base_uri": "https://localhost:8080/",
          "height": 336
        }
      },
      "source": [
        "plt.figure(figsize=(5,5))\n",
        "plt.hist(A, bins=np.linspace(0,1,11)) # Divide the range of numbers into 10 \"bins\".\n",
        "plt.plot ((0,1), (10,10)) # Compare to the flat distribution.\n",
        "plt.xticks(np.linspace(0,1,11))\n",
        "plt.yticks(np.arange(0,20,1))\n",
        "plt.grid()\n",
        "plt.title(\"Histogram of 100 random numbers between 0.0 and 1.0\")\n",
        "plt.show()"
      ],
      "execution_count": 37,
      "outputs": [
        {
          "output_type": "display_data",
          "data": {
            "text/plain": [
              "<Figure size 360x360 with 1 Axes>"
            ],
            "image/png": "[encoded data removed]"
          },
          "metadata": {
            "needs_background": "light"
          }
        }
      ]
    },
    {
      "cell_type": "markdown",
      "metadata": {
        "id": "YvL09iFsG50X"
      },
      "source": [
        "The only new ingredient was the `np.linspace` command, which is a very useful variant of `np.arange`.  The command `np.arange(start, stop, step)` creates a numpy array that begins at `start` and ends *just before* `stop` using intervals of `step`.  This should be familiar from the usual Python `range` command.\n",
        "\n",
        "The command `np.linspace(start, stop, length)` creates a numpy array that begins at `start` and ends *at* `stop`, using `length` evenly spaced values.  This is particularly useful for graphing, where you might know the domain interval and the number of samples you wish to compute."
      ]
    },
    {
      "cell_type": "markdown",
      "metadata": {
        "id": "SqnpCrSCG50X"
      },
      "source": [
        "### Matplotlib Exercises\n",
        "\n",
        "1.  Use `np.arange` and `np.linspace` to product the same numpy array `array([ 0.,  1.,  2.,  3.,  4.,  5.,  6.,  7.,  8.,  9., 10.])`.  \n",
        "\n",
        "2.  Create numpy arrays `xlist` and `ylist`, such that their scatter plot contains 100 evenly spaced points on the unit circle.\n",
        "\n",
        "3.  Use numpy to create a 10000 by 100 array of numbers, randomly chosen from {0,1}, with the command `R = np.random.choice([0,1], (10000,100))`.  You can think of each entry as a coin-toss, with 0 standing for tails and 1 for heads.  Now sum the rows of this array, to get an array of 10000 numbers between 0 and 100.  Make a histogram of this array to exhibit the [central limit theorem](https://en.wikipedia.org/wiki/Central_limit_theorem).  Use at least 20 bins.  Try this with other random choices of numbers, e.g., replacing [0,1] by other small lists of numbers.  How is the horizontal center of the histogram peak related to the list of numbers you choose?  Extra time? compare to the normal distribution by overlaying a suitable plt.plot."
      ]
    },
    {
      "cell_type": "markdown",
      "source": [
        "Ex1."
      ],
      "metadata": {
        "id": "9ZPRL6jmBNCD"
      }
    },
    {
      "cell_type": "code",
      "metadata": {
        "id": "X9VVZo4lG50X",
        "outputId": "196f49c2-6485-41ae-c573-4733616e5d79",
        "colab": {
          "base_uri": "https://localhost:8080/"
        }
      },
      "source": [
        "np.arange(0.0,11.0)"
      ],
      "execution_count": 53,
      "outputs": [
        {
          "output_type": "execute_result",
          "data": {
            "text/plain": [
              "array([ 0.,  1.,  2.,  3.,  4.,  5.,  6.,  7.,  8.,  9., 10.])"
            ]
          },
          "metadata": {},
          "execution_count": 53
        }
      ]
    },
    {
      "cell_type": "code",
      "source": [
        "np.linspace(0,10,num=11,dtype = float)"
      ],
      "metadata": {
        "id": "hw_lTmUA_pEV",
        "outputId": "501424eb-ced6-4135-ad6a-707f067f8d36",
        "colab": {
          "base_uri": "https://localhost:8080/"
        }
      },
      "execution_count": 61,
      "outputs": [
        {
          "output_type": "execute_result",
          "data": {
            "text/plain": [
              "array([ 0.,  1.,  2.,  3.,  4.,  5.,  6.,  7.,  8.,  9., 10.])"
            ]
          },
          "metadata": {},
          "execution_count": 61
        }
      ]
    },
    {
      "cell_type": "markdown",
      "source": [
        "Ex2."
      ],
      "metadata": {
        "id": "8r5BgpkbBPBT"
      }
    },
    {
      "cell_type": "code",
      "source": [
        "circle = np.linspace(0, 2*np.pi, 100)\n",
        "xlist = np.cos(circle)\n",
        "ylist = np.sin(circle)\n",
        "plt.scatter(xlist, ylist)\n",
        "plt.axis('equal')\n",
        "plt.show()"
      ],
      "metadata": {
        "id": "NlZnFJ_1BOgi",
        "outputId": "53b7c3f1-b6d2-408b-a7a7-200b12cfb7df",
        "colab": {
          "base_uri": "https://localhost:8080/",
          "height": 265
        }
      },
      "execution_count": 62,
      "outputs": [
        {
          "output_type": "display_data",
          "data": {
            "text/plain": [
              "<Figure size 432x288 with 1 Axes>"
            ],
            "image/png": "[encoded data removed]"
          },
          "metadata": {
            "needs_background": "light"
          }
        }
      ]
    },
    {
      "cell_type": "markdown",
      "source": [
        "Ex3."
      ],
      "metadata": {
        "id": "Zs8spJXDC51R"
      }
    },
    {
      "cell_type": "code",
      "source": [
        "import numpy as np\n",
        "import matplotlib.pyplot as plt\n",
        "\n",
        "# create a 10000 by 100 array of random coin-tosses\n",
        "R = np.random.choice([0, 1], (10000, 100))\n",
        "\n",
        "# sum the rows of R to get an array of 10000 numbers between 0 and 100\n",
        "sums = np.sum(R, axis=1)\n",
        "\n",
        "# plot a histogram of the sums with 20 bins\n",
        "plt.hist(sums, bins=20, density=True, alpha=0.5, label='Histogram')\n",
        "\n",
        "# plot the normal distribution with mean and standard deviation equal to the mean and std of the sums\n",
        "mu = np.mean(sums)\n",
        "sigma = np.std(sums)\n",
        "x = np.linspace(mu - 3sigma, mu + 3sigma, 100)\n",
        "plt.plot(x, 1/(sigma * np.sqrt(2 * np.pi)) * np.exp(-(x - mu)2 / (2 * sigma2)), label='Normal distribution')\n",
        "\n",
        "plt.xlabel('Sum of coin-tosses')\n",
        "plt.ylabel('Density')\n",
        "plt.legend()\n",
        "plt.show()"
      ],
      "metadata": {
        "id": "RNPv7w1cF0BE"
      },
      "execution_count": null,
      "outputs": []
    },
    {
      "cell_type": "markdown",
      "metadata": {
        "id": "S4v1eb4XG50X"
      },
      "source": [
        "## Visualization with pillow\n",
        "\n",
        "The Python Imaging Library (PIL) was started over 20 years ago, as a package for working with images (in formats like jpg, png, bmp, etc.) in Python.  Development of PIL mostly stopped in 2011, but is thankfully revived as [Pillow](https://pillow.readthedocs.io/en/stable/) (the \"friendly PIL fork\").  \n",
        "\n",
        "Let's see if it works, with some basic code below."
      ]
    },
    {
      "cell_type": "code",
      "metadata": {
        "id": "YvKtBdJhG50X"
      },
      "source": [
        "from PIL import Image # Load the package."
      ],
      "execution_count": 63,
      "outputs": []
    },
    {
      "cell_type": "markdown",
      "metadata": {
        "id": "HtjTaDGzG50X"
      },
      "source": [
        "A matplotlib figure is built of certain elements -- axes, labels, dots, lines, legends, grids, ticks, etc..  By design, these elements are meant to be assembled into a large but standard zoo of scientific graphics.\n",
        "\n",
        "In contrast, PIL works with images at a more rudimentary level.  In the lines below, we use NumPy to create a 3-dimensional array of numbers, and then use PIL to turn these numbers into an image, save the image, and display the image."
      ]
    },
    {
      "cell_type": "code",
      "metadata": {
        "id": "FNParaoxG50Y"
      },
      "source": [
        "array = np.zeros([256, 256, 3], dtype=np.uint8) # Recall uint8 = unsigned 8-bit integer.  Must be in 0...255.\n",
        "for x in range(256): \n",
        "    for y in range(256): \n",
        "        array[x, y] = [x, y, 256-x//2]"
      ],
      "execution_count": 64,
      "outputs": []
    },
    {
      "cell_type": "code",
      "metadata": {
        "id": "HhRRBlFQG50Y",
        "outputId": "4e9a889e-8aaa-4722-d450-4ef22b3c722c",
        "colab": {
          "base_uri": "https://localhost:8080/",
          "height": 273
        }
      },
      "source": [
        "img = Image.fromarray(array) # Create an image from the array.\n",
        "img.save('testrgba.png') # Save the image to Google's computer as a png file.  May not work well with colab.\n",
        "display(img) # Display the image in the notebook."
      ],
      "execution_count": 65,
      "outputs": [
        {
          "output_type": "display_data",
          "data": {
            "text/plain": [
              "<PIL.Image.Image image mode=RGB size=256x256 at 0x7FAB940F04F0>"
            ],
            "image/png": "[encoded data removed]"
          },
          "metadata": {}
        }
      ]
    },
    {
      "cell_type": "code",
      "metadata": {
        "id": "-uuRQmX6MX8z",
        "outputId": "ce6e5bf4-e130-41f6-c799-47fd36eb4c40",
        "colab": {
          "base_uri": "https://localhost:8080/",
          "height": 17
        }
      },
      "source": [
        "from google.colab import files\n",
        "files.download('testrgba.png')  # If you want to download the PNG file to your computer."
      ],
      "execution_count": 66,
      "outputs": [
        {
          "output_type": "display_data",
          "data": {
            "text/plain": [
              "<IPython.core.display.Javascript object>"
            ],
            "application/javascript": [
              "\n",
              "    async function download(id, filename, size) {\n",
              "      if (!google.colab.kernel.accessAllowed) {\n",
              "        return;\n",
              "      }\n",
              "      const div = document.createElement('div');\n",
              "      const label = document.createElement('label');\n",
              "      label.textContent = `Downloading \"${filename}\": `;\n",
              "      div.appendChild(label);\n",
              "      const progress = document.createElement('progress');\n",
              "      progress.max = size;\n",
              "      div.appendChild(progress);\n",
              "      document.body.appendChild(div);\n",
              "\n",
              "      const buffers = [];\n",
              "      let downloaded = 0;\n",
              "\n",
              "      const channel = await google.colab.kernel.comms.open(id);\n",
              "      // Send a message to notify the kernel that we're ready.\n",
              "      channel.send({})\n",
              "\n",
              "      for await (const message of channel.messages) {\n",
              "        // Send a message to notify the kernel that we're ready.\n",
              "        channel.send({})\n",
              "        if (message.buffers) {\n",
              "          for (const buffer of message.buffers) {\n",
              "            buffers.push(buffer);\n",
              "            downloaded += buffer.byteLength;\n",
              "            progress.value = downloaded;\n",
              "          }\n",
              "        }\n",
              "      }\n",
              "      const blob = new Blob(buffers, {type: 'application/binary'});\n",
              "      const a = document.createElement('a');\n",
              "      a.href = window.URL.createObjectURL(blob);\n",
              "      a.download = filename;\n",
              "      div.appendChild(a);\n",
              "      a.click();\n",
              "      div.remove();\n",
              "    }\n",
              "  "
            ]
          },
          "metadata": {}
        },
        {
          "output_type": "display_data",
          "data": {
            "text/plain": [
              "<IPython.core.display.Javascript object>"
            ],
            "application/javascript": [
              "download(\"download_e00fbbb7-91ec-4027-bd08-deee268e74df\", \"testrgba.png\", 795)"
            ]
          },
          "metadata": {}
        }
      ]
    },
    {
      "cell_type": "markdown",
      "metadata": {
        "id": "GFOWp7i3G50Y"
      },
      "source": [
        "To understand how this works, it is helpful to understand a bit more about light, computer monitors, and images-as-data.  Light is electromagnetic radiation, and it travels through space in waves.  Light waves with a wavelength of about 400-700 nanometers stimulate cells on our retina, and therefore are *visible*.  Longer wavelength light includes infrared, microwave, and radio waves.  Shorter wavelength light includes ultraviolet and x-rays.\n",
        "\n",
        "For most of us, our retinas contain 3 types of \"cone cells\" which are responsive to different wavelengths of light.  Some are most responsive to light in the low 400 nm range, others to light in the low 500nm range, others in the mid 500nm range.  Signals from these three kinds of cells get passed to the brain, and we are able to distinguish between different wavelengths (in the 400-700nm range) by which cells are more or less activated.\n",
        "\n",
        "If you see light purely in the 400-450 nm range, it looks pretty blue, whereas light at the 650-700 nm range looks pretty red.  A typical red laser pointer shines light that's close to 650nm.\n",
        "\n",
        "Your computer monitor contains millions of *pixels* -- extremely tiny these days (often below 100 micrometers square).  Each pixel contains a red, a blue, and a green subpixel.  Each of these subpixels is individually dimmable, and is often set between 0 (completely off) and 255 (completely on).  In this way, each pixel can be black (red = 0, blue = 0, green = 0) or bright pure red (red = 255, blue = 0, green = 0) or white (red = 255, blue = 255, green = 255).\n",
        "\n",
        "To understand how this makes \"white\" or \"yellow\" or all the other colors in the rainbow, you need to understand an *additive* color scheme as well as how light is perceived.  When light of multiple wavelengths hits your retina, your brain perceives a certain color.  In fact, if light of a red wavelength (680nm) and green wavelength (510nm) hits your retina at the same time, your brain will see it exactly the same as light of a yellow wavelength (560nm).  When you look at a bright yellow picture on your computer monitor, your computer is actually shining red and green light at your retina... the red and green dots are just so tiny and closely packed that your brain doesn't know the difference.\n",
        "\n",
        "The code below creates a 200 by 200 by 3 array of numbers, each between 0 and 255.  But you should think about it as a 200 by 200 array of quadruples of the form `[red value, green value, blue value]`.  Each value can be between 0 and 255 -- it is represented as a np.uint8.\n",
        "\n",
        "This array is then turned into a PIL Image with the `Image.fromarray` function.  Then the PIL function `display` displays the image.  Notice how red+green looks yellow.  Experiment with the red, green, and blue values to see what happens!\n"
      ]
    },
    {
      "cell_type": "code",
      "metadata": {
        "id": "boa_dH73G50Y",
        "outputId": "d78ec2bc-1ad6-4648-da3b-b1b7b56404f3",
        "colab": {
          "base_uri": "https://localhost:8080/",
          "height": 217
        }
      },
      "source": [
        "solid = np.zeros((200, 200,3), dtype=np.uint8)\n",
        "for x in range(200):\n",
        "    for y in range(200):\n",
        "        solid[y,x] = [255,255,0] # Red = 255, Green = 255, Blue = 0\n",
        "img = Image.fromarray(solid) # Create an image from the array.\n",
        "display(img)"
      ],
      "execution_count": 67,
      "outputs": [
        {
          "output_type": "display_data",
          "data": {
            "text/plain": [
              "<PIL.Image.Image image mode=RGB size=200x200 at 0x7FAB94143A00>"
            ],
            "image/png": "[encoded data removed]"
          },
          "metadata": {}
        }
      ]
    },
    {
      "cell_type": "code",
      "metadata": {
        "id": "FMWAKRs1G50Y",
        "outputId": "202cbddb-28c6-4869-df1b-c475221e5a66",
        "colab": {
          "base_uri": "https://localhost:8080/",
          "height": 273
        }
      },
      "source": [
        "gradient = np.zeros((256, 256,3), dtype=np.uint8)\n",
        "for x in range(256):\n",
        "    for y in range(256):\n",
        "        gradient[y,x] = [x,128,0] # Red = x, Green = 128, Blue = 0\n",
        "img = Image.fromarray(gradient) # Create an image from the array.\n",
        "display(img)"
      ],
      "execution_count": 68,
      "outputs": [
        {
          "output_type": "display_data",
          "data": {
            "text/plain": [
              "<PIL.Image.Image image mode=RGB size=256x256 at 0x7FAB940A2700>"
            ],
            "image/png": "[encoded data removed]"
          },
          "metadata": {}
        }
      ]
    },
    {
      "cell_type": "markdown",
      "metadata": {
        "id": "3NNvd0ApG50Y"
      },
      "source": [
        "There is something terribly confusing that happens when one goes back and forth between PIL images and NumPy arrays.  The x-coordinate and y-coordinate gets switched.  Notice in the above code that `gradient[y,x]` is being assigned a value `[x,128,0]`  This means that as x changes, the color chages (from green to orange).  The RGB triple stored in `gradient[y,x]` corresponds to the pixel with x-coordinate x.  That's why `[y,x]` is used and not `[x,y]`."
      ]
    },
    {
      "cell_type": "markdown",
      "metadata": {
        "id": "ieJX_F6QG50Y"
      },
      "source": [
        "When we save images, we will use the png [portable network graphics](https://en.wikipedia.org/wiki/Portable_Network_Graphics) image format.  This is very commonly used for graphics on the web, and can be used to store all of the red/green/blue bytes of data in a rectangular image.  Most importantly for us, the png format is *lossless* -- every pixel will be saved as intended in a png file.  On the other hand, formats like jpeg *lose information* as they compress the image.\n",
        "\n",
        "We can use Python (with PIL) to open images, modify them as NumPy arrays, and then display them and save them as images again."
      ]
    },
    {
      "cell_type": "markdown",
      "metadata": {
        "id": "bOfoV6ioG50Y"
      },
      "source": [
        "To practice a bit of image manipulation, we are going to fix a very strange looking cat.  Begin by downloading the file `meowp.png` from this [GitHub link](https://github.com/MartyWeissman/PythonForMathematics/blob/main/meowp.png)  onto your computer.  Then use the following command to upload it to Google's server."
      ]
    },
    {
      "cell_type": "code",
      "metadata": {
        "id": "oDx5iZPNMAC9",
        "outputId": "150caf5a-e577-4ef6-9eb5-9ffe44a10d45",
        "colab": {
          "base_uri": "https://localhost:8080/",
          "height": 41
        }
      },
      "source": [
        "files.upload()"
      ],
      "execution_count": null,
      "outputs": [
        {
          "output_type": "display_data",
          "data": {
            "text/plain": [
              "<IPython.core.display.HTML object>"
            ],
            "text/html": [
              "\n",
              "     <input type=\"file\" id=\"files-8feeab60-46bf-41af-b22e-d5e90640071b\" name=\"files[]\" multiple disabled\n",
              "        style=\"border:none\" />\n",
              "     <output id=\"result-8feeab60-46bf-41af-b22e-d5e90640071b\">\n",
              "      Upload widget is only available when the cell has been executed in the\n",
              "      current browser session. Please rerun this cell to enable.\n",
              "      </output>\n",
              "      <script>// Copyright 2017 Google LLC\n",
              "//\n",
              "// Licensed under the Apache License, Version 2.0 (the \"License\");\n",
              "// you may not use this file except in compliance with the License.\n",
              "// You may obtain a copy of the License at\n",
              "//\n",
              "//      http://www.apache.org/licenses/LICENSE-2.0\n",
              "//\n",
              "// Unless required by applicable law or agreed to in writing, software\n",
              "// distributed under the License is distributed on an \"AS IS\" BASIS,\n",
              "// WITHOUT WARRANTIES OR CONDITIONS OF ANY KIND, either express or implied.\n",
              "// See the License for the specific language governing permissions and\n",
              "// limitations under the License.\n",
              "\n",
              "/**\n",
              " * @fileoverview Helpers for google.colab Python module.\n",
              " */\n",
              "(function(scope) {\n",
              "function span(text, styleAttributes = {}) {\n",
              "  const element = document.createElement('span');\n",
              "  element.textContent = text;\n",
              "  for (const key of Object.keys(styleAttributes)) {\n",
              "    element.style[key] = styleAttributes[key];\n",
              "  }\n",
              "  return element;\n",
              "}\n",
              "\n",
              "// Max number of bytes which will be uploaded at a time.\n",
              "const MAX_PAYLOAD_SIZE = 100 * 1024;\n",
              "\n",
              "function _uploadFiles(inputId, outputId) {\n",
              "  const steps = uploadFilesStep(inputId, outputId);\n",
              "  const outputElement = document.getElementById(outputId);\n",
              "  // Cache steps on the outputElement to make it available for the next call\n",
              "  // to uploadFilesContinue from Python.\n",
              "  outputElement.steps = steps;\n",
              "\n",
              "  return _uploadFilesContinue(outputId);\n",
              "}\n",
              "\n",
              "// This is roughly an async generator (not supported in the browser yet),\n",
              "// where there are multiple asynchronous steps and the Python side is going\n",
              "// to poll for completion of each step.\n",
              "// This uses a Promise to block the python side on completion of each step,\n",
              "// then passes the result of the previous step as the input to the next step.\n",
              "function _uploadFilesContinue(outputId) {\n",
              "  const outputElement = document.getElementById(outputId);\n",
              "  const steps = outputElement.steps;\n",
              "\n",
              "  const next = steps.next(outputElement.lastPromiseValue);\n",
              "  return Promise.resolve(next.value.promise).then((value) => {\n",
              "    // Cache the last promise value to make it available to the next\n",
              "    // step of the generator.\n",
              "    outputElement.lastPromiseValue = value;\n",
              "    return next.value.response;\n",
              "  });\n",
              "}\n",
              "\n",
              "/**\n",
              " * Generator function which is called between each async step of the upload\n",
              " * process.\n",
              " * @param {string} inputId Element ID of the input file picker element.\n",
              " * @param {string} outputId Element ID of the output display.\n",
              " * @return {!Iterable<!Object>} Iterable of next steps.\n",
              " */\n",
              "function* uploadFilesStep(inputId, outputId) {\n",
              "  const inputElement = document.getElementById(inputId);\n",
              "  inputElement.disabled = false;\n",
              "\n",
              "  const outputElement = document.getElementById(outputId);\n",
              "  outputElement.innerHTML = '';\n",
              "\n",
              "  const pickedPromise = new Promise((resolve) => {\n",
              "    inputElement.addEventListener('change', (e) => {\n",
              "      resolve(e.target.files);\n",
              "    });\n",
              "  });\n",
              "\n",
              "  const cancel = document.createElement('button');\n",
              "  inputElement.parentElement.appendChild(cancel);\n",
              "  cancel.textContent = 'Cancel upload';\n",
              "  const cancelPromise = new Promise((resolve) => {\n",
              "    cancel.onclick = () => {\n",
              "      resolve(null);\n",
              "    };\n",
              "  });\n",
              "\n",
              "  // Wait for the user to pick the files.\n",
              "  const files = yield {\n",
              "    promise: Promise.race([pickedPromise, cancelPromise]),\n",
              "    response: {\n",
              "      action: 'starting',\n",
              "    }\n",
              "  };\n",
              "\n",
              "  cancel.remove();\n",
              "\n",
              "  // Disable the input element since further picks are not allowed.\n",
              "  inputElement.disabled = true;\n",
              "\n",
              "  if (!files) {\n",
              "    return {\n",
              "      response: {\n",
              "        action: 'complete',\n",
              "      }\n",
              "    };\n",
              "  }\n",
              "\n",
              "  for (const file of files) {\n",
              "    const li = document.createElement('li');\n",
              "    li.append(span(file.name, {fontWeight: 'bold'}));\n",
              "    li.append(span(\n",
              "        `(${file.type || 'n/a'}) - ${file.size} bytes, ` +\n",
              "        `last modified: ${\n",
              "            file.lastModifiedDate ? file.lastModifiedDate.toLocaleDateString() :\n",
              "                                    'n/a'} - `));\n",
              "    const percent = span('0% done');\n",
              "    li.appendChild(percent);\n",
              "\n",
              "    outputElement.appendChild(li);\n",
              "\n",
              "    const fileDataPromise = new Promise((resolve) => {\n",
              "      const reader = new FileReader();\n",
              "      reader.onload = (e) => {\n",
              "        resolve(e.target.result);\n",
              "      };\n",
              "      reader.readAsArrayBuffer(file);\n",
              "    });\n",
              "    // Wait for the data to be ready.\n",
              "    let fileData = yield {\n",
              "      promise: fileDataPromise,\n",
              "      response: {\n",
              "        action: 'continue',\n",
              "      }\n",
              "    };\n",
              "\n",
              "    // Use a chunked sending to avoid message size limits. See b/62115660.\n",
              "    let position = 0;\n",
              "    do {\n",
              "      const length = Math.min(fileData.byteLength - position, MAX_PAYLOAD_SIZE);\n",
              "      const chunk = new Uint8Array(fileData, position, length);\n",
              "      position += length;\n",
              "\n",
              "      const base64 = btoa(String.fromCharCode.apply(null, chunk));\n",
              "      yield {\n",
              "        response: {\n",
              "          action: 'append',\n",
              "          file: file.name,\n",
              "          data: base64,\n",
              "        },\n",
              "      };\n",
              "\n",
              "      let percentDone = fileData.byteLength === 0 ?\n",
              "          100 :\n",
              "          Math.round((position / fileData.byteLength) * 100);\n",
              "      percent.textContent = `${percentDone}% done`;\n",
              "\n",
              "    } while (position < fileData.byteLength);\n",
              "  }\n",
              "\n",
              "  // All done.\n",
              "  yield {\n",
              "    response: {\n",
              "      action: 'complete',\n",
              "    }\n",
              "  };\n",
              "}\n",
              "\n",
              "scope.google = scope.google || {};\n",
              "scope.google.colab = scope.google.colab || {};\n",
              "scope.google.colab._files = {\n",
              "  _uploadFiles,\n",
              "  _uploadFilesContinue,\n",
              "};\n",
              "})(self);\n",
              "</script> "
            ]
          },
          "metadata": {}
        }
      ]
    },
    {
      "cell_type": "code",
      "metadata": {
        "scrolled": true,
        "id": "MK0RD32KG50Z"
      },
      "source": [
        "cat = Image.open('meowp.png')\n",
        "display(cat)"
      ],
      "execution_count": null,
      "outputs": []
    },
    {
      "cell_type": "markdown",
      "metadata": {
        "id": "mahv8ShVG50Z"
      },
      "source": [
        "To examine the image file, let's display a few things."
      ]
    },
    {
      "cell_type": "code",
      "metadata": {
        "id": "L4XWk0mLG50Z"
      },
      "source": [
        "print(cat.format) # What format does the image have?\n",
        "print(cat.size) # What are the dimensions of the image?\n",
        "print(cat.mode) # What is the color-mode of the image?"
      ],
      "execution_count": null,
      "outputs": []
    },
    {
      "cell_type": "markdown",
      "metadata": {
        "id": "wz0euj_zG50Z"
      },
      "source": [
        "To manipulate this image, let's covert it to a NumPy array."
      ]
    },
    {
      "cell_type": "code",
      "metadata": {
        "id": "Vrkin5ZvG50Z"
      },
      "source": [
        "catarray = np.asarray(cat)\n",
        "print(catarray.shape)"
      ],
      "execution_count": null,
      "outputs": []
    },
    {
      "cell_type": "markdown",
      "metadata": {
        "id": "9EsuuiP1G50Z"
      },
      "source": [
        "If you look at the image, it looks like the red, green, and blue parts have been separated and overlayed in some weird way.  We can look at the red-channel only by creating a new red-only image.  We use the `catarray.copy()` command at the beginning to put our red-cat data into a new NumPy array (without harming the original catarray!)"
      ]
    },
    {
      "cell_type": "code",
      "metadata": {
        "id": "KkVmIK-fG50Z"
      },
      "source": [
        "redcatarray = catarray.copy()\n",
        "redcatarray[:,:,[1,2]] = 0  # Set all green and blue values equal to zero.\n",
        "display(Image.fromarray(redcatarray))"
      ],
      "execution_count": null,
      "outputs": []
    },
    {
      "cell_type": "markdown",
      "metadata": {
        "id": "iH57ybNVG50Z"
      },
      "source": [
        "Now let's look at the green channel by itself."
      ]
    },
    {
      "cell_type": "code",
      "metadata": {
        "id": "PYXAO9XYG50a"
      },
      "source": [
        "greencatarray = catarray.copy()\n",
        "greencatarray[:,:,[0,2]] = 0\n",
        "display(Image.fromarray(greencatarray))"
      ],
      "execution_count": null,
      "outputs": []
    },
    {
      "cell_type": "markdown",
      "metadata": {
        "id": "JY8gPiAhG50a"
      },
      "source": [
        "Now we see the problem!  Complete the exercises below to fix the image."
      ]
    },
    {
      "cell_type": "markdown",
      "metadata": {
        "id": "i_HgiRj5G50a"
      },
      "source": [
        "### Exercises\n",
        "\n",
        "1.  Create a gradient-square which is blue at the top and red at the bottom.  \n",
        "\n",
        "2.  Create and display the blue channel of the cat-image.  \n",
        "\n",
        "3.  Flip the blue and green cat-images, so that they match the orientation of the red image.  Hint:  remember that `L[-1::-1]` reversed a list.  Try this syntax with the NumPy arrays!  Watch your x- and y- axis reversal! \n",
        "\n",
        "4.  Assemble the three properly oriented images (match the orientation of the red image) to assemble a complete RGB kitty.  Can you assemble the image without using any loops?\n",
        "\n",
        "5.  (A little bit of [steganography](https://en.wikipedia.org/wiki/Steganography)!)  There's a coded message in the green channel, once it's oriented correctly.  The message is located at y-coordinate 10 and x-coordinates 0,8,16,24,32,etc.  Find this message by using applying the `chr` function to the green values at these locations.  If you want to experiment, the `ord` function converts characters (one-letter strings) to uint8's and the `chr` function converts uint8's to characters, using ASCII code."
      ]
    },
    {
      "cell_type": "code",
      "metadata": {
        "id": "8AiBJaWGG50b"
      },
      "source": [],
      "execution_count": null,
      "outputs": []
    },
    {
      "cell_type": "code",
      "metadata": {
        "id": "6O-ed7HSG50b"
      },
      "source": [],
      "execution_count": null,
      "outputs": []
    }
  ]
}